{
 "cells": [
  {
   "cell_type": "markdown",
   "id": "42a94957-64a9-47df-9c36-1a2ea2def2dc",
   "metadata": {},
   "source": [
    "# CKP8087 - Estrutura de Dados\n",
    "<img  src=\"https://img.shields.io/badge/UFC_CKP8087-VAUX GOMES-000000?style=for-the-badge&logo=data:image/png;base64,iVBORw0KGgoAAAANSUhEUgAAAAsAAAAOCAYAAAD5YeaVAAAABHNCSVQICAgIfAhkiAAAAAlwSFlzAAAANgAAADYBsVpjYQAAABl0RVh0U29mdHdhcmUAd3d3Lmlua3NjYXBlLm9yZ5vuPBoAAAENSURBVCiRbdFBS9QBEAXw36y7Wq6IgUSGsixhJBpiRBB08XN7ETyIFyPYui2KBXsQTUphsbbx4Cz8E+cyw8ybN/NmQsMy8xO+YRkdXGA9Ig6g3QC+r/Ad/lS8hp9TTKtBvFB+Dt2qZXNyuxEnNnCORUQ1Xj8G/lX7trAfEVeZOYu3j63xDG8wg35mdiPiFpf/gTNzocZ+xQgv8KGYp3WRmTtYxQBPiv0Wh5W/wjaG7WI8K1HThlPsYowevmO+hZe4wfOImJTIV5jgafl/WInM3MBmMY5xXP41ltx/cgaDKAF999/q1L0/Yq9ygc8RMWxBRJzgN7bwF8PS0MNpRAwf3nlUAo/qdAf4gh9TwB2yEFM5Ddb+rgAAAABJRU5ErkJggg==\" /> <img src=\"https://img.shields.io/badge/Jupyter-000000?style=for-the-badge&logo=jupyter&logoColor=white\" /> <img src=\"https://img.shields.io/badge/Python-000000?style=for-the-badge&logo=python&logoColor=white\" /> <img src=\"https://img.shields.io/badge/Docker-000000?style=for-the-badge&logo=docker&logoColor=white\" /> <img src=\"https://img.shields.io/badge/PostgreSQL-000000?style=for-the-badge&logo=postgresql&logoColor=white\" /> <img src=\"https://img.shields.io/badge/Neo4J-000000?style=for-the-badge&logo=neo4j&logoColor=white\" />\n",
    "\n",
    "## Parte I - Preparação dos Dockers\n",
    "\n",
    "#### Pre-requisitos\n",
    " - Docker\n",
    " - Docker Compose ou Plugin\n",
    "\n",
    "#### Comandos\n",
    "\n",
    "```sh\n",
    "$ cd /path/to/work\n",
    "$ cat > docker-compose.yml << 'EOF'\n",
    "service:\n",
    "  postgres:\n",
    "    image: postgres\n",
    "    container_name: postgres\n",
    "    ports:\n",
    "      - 5432:5432\n",
    "    expose:\n",
    "      - 5432\n",
    "    networks:\n",
    "      - local-network\n",
    "    environment:\n",
    "      - POSTGRES_USER=root\n",
    "      - POSTGRES_PASSWORD=root\n",
    "      - POSTGRES_DB=postgres\n",
    "\n",
    "  neo4j:\n",
    "    image: neo4j:latest\n",
    "    container_name: neo4j\n",
    "    ports:\n",
    "      - \"7474:7474\"   # Neo4j Browser\n",
    "      - \"7687:7687\"   # Bolt protocol\n",
    "    networks:\n",
    "      - local-network\n",
    "    environment:\n",
    "      - NEO4J_AUTH=neo4j/12345678             # Set do username/password\n",
    "    volumes:\n",
    "      - ./Neo4j/data:/data                    # Pasta para armazenar os dados\n",
    "      - ./Neo4j/logs:/logs                    # Pasta para armazenar os logs\n",
    "      - ./Neo4j/import:/var/lib/neo4j/import  # Pasta para importe de CSV\n",
    "      - ./Neo4j/plugins:/plugins              # Pasta dos plugins\n",
    "      - ./Neo4j/dumps:/dumps                  # Pasta para os dumps\n",
    "\n",
    "networks:\n",
    "  local-network:\n",
    "    driver: bridge\n",
    "EOF\n",
    "```\n",
    "\n",
    "<div class=\"alert alert-block alert-info\">\n",
    "    [OPCIONAL]: Escolha um nome melhor para o banco\n",
    "</div>"
   ]
  },
  {
   "cell_type": "markdown",
   "id": "4563c9ce-150c-43b4-87df-d5ecddab7537",
   "metadata": {
    "jp-MarkdownHeadingCollapsed": true
   },
   "source": [
    "## Parte II - Restauração do Dump\n",
    "\n",
    "```sh\n",
    "# Start do container\n",
    "$ cd /path/to/work\n",
    "$ docker-compose -up -d postgres\n",
    "\n",
    "# Restore do dump\n",
    "$ docker exec -i postgres psql -U root -d postgres < /path/to/backup.dump\n",
    "```\n",
    "\n",
    "![](./files/images/dbeaver.png)"
   ]
  },
  {
   "cell_type": "markdown",
   "id": "3ef566e7-c4d7-4378-8fb3-df3d5e872e3e",
   "metadata": {},
   "source": [
    "## Parte III - Importando e tradandos os dados"
   ]
  },
  {
   "cell_type": "code",
   "execution_count": 1,
   "id": "019d5fca-b926-47bf-b193-bc9cc850bfa8",
   "metadata": {
    "scrolled": true
   },
   "outputs": [
    {
     "name": "stdout",
     "output_type": "stream",
     "text": [
      "Requirement already satisfied: pandas in /opt/conda/lib/python3.11/site-packages (2.2.3)\n",
      "Requirement already satisfied: numpy>=1.23.2 in /opt/conda/lib/python3.11/site-packages (from pandas) (2.1.3)\n",
      "Requirement already satisfied: python-dateutil>=2.8.2 in /opt/conda/lib/python3.11/site-packages (from pandas) (2.8.2)\n",
      "Requirement already satisfied: pytz>=2020.1 in /opt/conda/lib/python3.11/site-packages (from pandas) (2023.3.post1)\n",
      "Requirement already satisfied: tzdata>=2022.7 in /opt/conda/lib/python3.11/site-packages (from pandas) (2024.2)\n",
      "Requirement already satisfied: six>=1.5 in /opt/conda/lib/python3.11/site-packages (from python-dateutil>=2.8.2->pandas) (1.16.0)\n",
      "Requirement already satisfied: sqlalchemy in /opt/conda/lib/python3.11/site-packages (2.0.22)\n",
      "Requirement already satisfied: typing-extensions>=4.2.0 in /opt/conda/lib/python3.11/site-packages (from sqlalchemy) (4.8.0)\n",
      "Requirement already satisfied: greenlet!=0.4.17 in /opt/conda/lib/python3.11/site-packages (from sqlalchemy) (3.0.0)\n",
      "Requirement already satisfied: psycopg2-binary in /opt/conda/lib/python3.11/site-packages (2.9.10)\n"
     ]
    }
   ],
   "source": [
    "# Installs - Necessário porque meu Jupyter está em um Docker\n",
    "!pip install pandas  \n",
    "!pip install sqlalchemy\n",
    "!pip install psycopg2-binary       # Drive do postgress \n",
    "\n",
    "# Imports\n",
    "import numpy as np\n",
    "import pandas as pd\n",
    "import psycopg2 as pg"
   ]
  },
  {
   "cell_type": "code",
   "execution_count": 2,
   "id": "fe244c3f-dd77-4e2c-9782-1bded4d81fae",
   "metadata": {},
   "outputs": [
    {
     "name": "stderr",
     "output_type": "stream",
     "text": [
      "/tmp/ipykernel_1676/364225286.py:25: UserWarning: pandas only supports SQLAlchemy connectable (engine/connection) or database string URI or sqlite3 DBAPI2 connection. Other DBAPI2 objects are not tested. Please consider using SQLAlchemy.\n",
      "  df = pd.read_sql(query, conn)\n"
     ]
    },
    {
     "name": "stdout",
     "output_type": "stream",
     "text": [
      "(407911, 5)\n"
     ]
    },
    {
     "data": {
      "text/html": [
       "<div>\n",
       "<style scoped>\n",
       "    .dataframe tbody tr th:only-of-type {\n",
       "        vertical-align: middle;\n",
       "    }\n",
       "\n",
       "    .dataframe tbody tr th {\n",
       "        vertical-align: top;\n",
       "    }\n",
       "\n",
       "    .dataframe thead th {\n",
       "        text-align: right;\n",
       "    }\n",
       "</style>\n",
       "<table border=\"1\" class=\"dataframe\">\n",
       "  <thead>\n",
       "    <tr style=\"text-align: right;\">\n",
       "      <th></th>\n",
       "      <th>member</th>\n",
       "      <th>group</th>\n",
       "      <th>text</th>\n",
       "      <th>score_sentiment</th>\n",
       "      <th>score_misinformation</th>\n",
       "    </tr>\n",
       "  </thead>\n",
       "  <tbody>\n",
       "    <tr>\n",
       "      <th>0</th>\n",
       "      <td>eacc81d81047368e08bdcee59a0e69e2</td>\n",
       "      <td>970fc18f0d5608107b7822a2adbac3f8</td>\n",
       "      <td>None</td>\n",
       "      <td>NaN</td>\n",
       "      <td>NaN</td>\n",
       "    </tr>\n",
       "    <tr>\n",
       "      <th>1</th>\n",
       "      <td>542d038bf37b9f9871d6e8dac6fd4230</td>\n",
       "      <td>589e16e85b442fa82e8e0061fa2731e6</td>\n",
       "      <td>Vou ali</td>\n",
       "      <td>0.0000</td>\n",
       "      <td>NaN</td>\n",
       "    </tr>\n",
       "    <tr>\n",
       "      <th>2</th>\n",
       "      <td>3a8e41b9e1da548ef0acd0a57b398da4</td>\n",
       "      <td>e110071613239754d38878f7e046e95b</td>\n",
       "      <td>Jovem vai a sessão parlamentar na câmara dos v...</td>\n",
       "      <td>0.6371</td>\n",
       "      <td>0.001867</td>\n",
       "    </tr>\n",
       "    <tr>\n",
       "      <th>3</th>\n",
       "      <td>3a8e41b9e1da548ef0acd0a57b398da4</td>\n",
       "      <td>7ee4235534ec624ebd61373b87ad8c20</td>\n",
       "      <td>Jovem vai a sessão parlamentar na câmara dos v...</td>\n",
       "      <td>0.6371</td>\n",
       "      <td>0.001867</td>\n",
       "    </tr>\n",
       "    <tr>\n",
       "      <th>4</th>\n",
       "      <td>3a8e41b9e1da548ef0acd0a57b398da4</td>\n",
       "      <td>ee85f63c945ffa50ba8bb57acf2c1bf9</td>\n",
       "      <td>Jovem vai a sessão parlamentar na câmara dos v...</td>\n",
       "      <td>0.6371</td>\n",
       "      <td>0.001867</td>\n",
       "    </tr>\n",
       "  </tbody>\n",
       "</table>\n",
       "</div>"
      ],
      "text/plain": [
       "                             member                             group  \\\n",
       "0  eacc81d81047368e08bdcee59a0e69e2  970fc18f0d5608107b7822a2adbac3f8   \n",
       "1  542d038bf37b9f9871d6e8dac6fd4230  589e16e85b442fa82e8e0061fa2731e6   \n",
       "2  3a8e41b9e1da548ef0acd0a57b398da4  e110071613239754d38878f7e046e95b   \n",
       "3  3a8e41b9e1da548ef0acd0a57b398da4  7ee4235534ec624ebd61373b87ad8c20   \n",
       "4  3a8e41b9e1da548ef0acd0a57b398da4  ee85f63c945ffa50ba8bb57acf2c1bf9   \n",
       "\n",
       "                                                text  score_sentiment  \\\n",
       "0                                               None              NaN   \n",
       "1                                            Vou ali           0.0000   \n",
       "2  Jovem vai a sessão parlamentar na câmara dos v...           0.6371   \n",
       "3  Jovem vai a sessão parlamentar na câmara dos v...           0.6371   \n",
       "4  Jovem vai a sessão parlamentar na câmara dos v...           0.6371   \n",
       "\n",
       "   score_misinformation  \n",
       "0                   NaN  \n",
       "1                   NaN  \n",
       "2              0.001867  \n",
       "3              0.001867  \n",
       "4              0.001867  "
      ]
     },
     "execution_count": 2,
     "metadata": {},
     "output_type": "execute_result"
    }
   ],
   "source": [
    "# DB Config\n",
    "username  = 'root'\n",
    "password  = 'root'\n",
    "host      = 'postgres' # NOME DO CONTAINER\n",
    "port      = '5432'\n",
    "database  = 'postgres' # NOME DO DATABASE\n",
    "\n",
    "# Connection\n",
    "conn = pg.connect(\n",
    "    user=username,\n",
    "    password=password,\n",
    "    host=host,\n",
    "    port=port,\n",
    "    dbname=database\n",
    ")\n",
    "\n",
    "# Dataframe\n",
    "query = '''\n",
    "SELECT \n",
    "    id_member_anonymous as member,  \n",
    "    id_group_anonymous as group,\n",
    "    text_content_anonymous as text,\n",
    "    score_sentiment, score_misinformation\n",
    "FROM tb_whatsapp_messages WHERE trava_zap = false'''\n",
    "df = pd.read_sql(query, conn)\n",
    "\n",
    "conn.close()\n",
    "\n",
    "# Info\n",
    "rows = df.shape[0]\n",
    "\n",
    "# Data\n",
    "print(df.shape)\n",
    "df.head()"
   ]
  },
  {
   "cell_type": "markdown",
   "id": "ff5bef4e-f086-4356-b117-43343d3159a8",
   "metadata": {},
   "source": [
    "### Filtros & Flags"
   ]
  },
  {
   "cell_type": "code",
   "execution_count": 3,
   "id": "41198473-6b1f-4386-b6f8-2ac3a29c30b3",
   "metadata": {},
   "outputs": [
    {
     "name": "stdout",
     "output_type": "stream",
     "text": [
      "Reduzido para: (186316, 5) (45.68% do tamanho original)\n"
     ]
    }
   ],
   "source": [
    "# Filtro do número de palavras (5+)\n",
    "df = df[df.text.str.count('\\s').gt(3)] # 4 espaços ou mais\n",
    "print(f'Reduzido para: {df.shape} ({(df.shape[0]/rows)*100:.2f}% do tamanho original)')"
   ]
  },
  {
   "cell_type": "code",
   "execution_count": 4,
   "id": "82678e1d-bdf8-44cc-a735-5269900f65b9",
   "metadata": {},
   "outputs": [
    {
     "name": "stdout",
     "output_type": "stream",
     "text": [
      "Reduzido para: (110091, 6) (26.99% do tamanho)\n"
     ]
    }
   ],
   "source": [
    "# Flag de viral\n",
    "counts = df['text'].value_counts()\n",
    "df['viral'] = df['text'].isin(counts[counts > 1].index)\n",
    "print(f'Reduzido para: {df[df.viral == True].shape} ({(df[df.viral == True].shape[0]/rows)*100:.2f}% do tamanho)')"
   ]
  },
  {
   "cell_type": "code",
   "execution_count": 5,
   "id": "7c3761e6-30c7-433e-9f65-9eb5da8e6f99",
   "metadata": {},
   "outputs": [
    {
     "name": "stdout",
     "output_type": "stream",
     "text": [
      "Reduzido para: (8749, 7) (2.14% do tamanho)\n"
     ]
    }
   ],
   "source": [
    "# Flaf de misinformation\n",
    "df['misinformation'] = df.score_misinformation >= 0.7\n",
    "print(f'Reduzido para: {df[df.misinformation == True].shape} ({(df[df.misinformation == True].shape[0]/rows)*100:.2f}% do tamanho)')"
   ]
  },
  {
   "cell_type": "markdown",
   "id": "8e8d6dbd-2930-4e2d-a949-deb3d0d32108",
   "metadata": {},
   "source": [
    "### Grafos\n",
    "\n",
    "> _(...) cada nó representa um usuário, existe uma aresta direcionada entre o usuário i e o usuário j se o usuário i enviou uma mensagem para um grupo do qual o usuário j faz parte.\n",
    "> O peso dessa aresta é a quantidade de mensagens enviadas pelo usuário i para aquele grupo._"
   ]
  },
  {
   "cell_type": "code",
   "execution_count": 30,
   "id": "1b9c3428-dcf6-46d0-9d02-ce699d0e6cb1",
   "metadata": {},
   "outputs": [],
   "source": [
    "def build(df, v=False):\n",
    "    '''\n",
    "    Função para mapeamento do dataframe em uma estrutura de contagem de mensagens\n",
    "    \n",
    "    graph = {\n",
    "        'senders': {\n",
    "            'sender_1': {\n",
    "                'msgs': {\n",
    "                    'receiver_1': Integer,\n",
    "                    'receiver_2': Integer\n",
    "                },\n",
    "                stats: {\n",
    "                    'geral': {\n",
    "                        'grau_centralidade': Integer,     # Quantidade de ARESTAS (muda de acordo com o conjunto de dados apenas)\n",
    "                        'forca': Integer                  # Quantidade de MENSAGENS\n",
    "                    },\n",
    "                    'viral': {\n",
    "                        'grau_centralidade': Integer,\n",
    "                        'forca': Integer\n",
    "                    },\n",
    "                    'misinformation': {\n",
    "                        'grau_centralidade': Integer,\n",
    "                        'forca': Integer\n",
    "                    },\n",
    "                }\n",
    "            }...\n",
    "        },\n",
    "        arestas: Integer\n",
    "    }\n",
    "    '''\n",
    "    \n",
    "    graph = {\n",
    "        'senders': {},\n",
    "        'stats': {\n",
    "            'arestas': 0,\n",
    "            'nos': df.member.unique().size,\n",
    "            'geral': df.shape[0],\n",
    "            'viral': df[df['viral']].shape[0],\n",
    "            'misinformation': df[df['misinformation']].shape[0]   \n",
    "        }\n",
    "    }\n",
    "\n",
    "    for g in df.group.unique()[:]:\n",
    "        dfg = df[df.group == g]                       # Group filter\n",
    "        members_ = dfg.member.value_counts()          # Group Member Counts\n",
    "        \n",
    "        for s, msgs in members_.items():              # s: Sender\n",
    "            dfgs = dfg[dfg.member == s]               # Sender filter -- (GROUP, SENDER) Messages\n",
    "            \n",
    "            # Node\n",
    "            graph['senders'][s] = graph['senders'].get(s, {\n",
    "                'msgs': {}, \n",
    "                'stats': {\n",
    "                    'geral': { 'grau_centralidade': 0, 'forca': 0 },\n",
    "                    'viral': { 'grau_centralidade': 0, 'forca': 0 },\n",
    "                    'misinformation': { 'grau_centralidade': 0, 'forca': 0 }, \n",
    "                }\n",
    "            })\n",
    "\n",
    "            # Node statuses: Geral\n",
    "            graph['senders'][s]['stats']['geral']['grau_centralidade'] += members_.shape[0] - 1\n",
    "            graph['senders'][s]['stats']['geral']['forca'] += msgs\n",
    "\n",
    "            # Node statuses: Viral\n",
    "            graph['senders'][s]['stats']['viral']['grau_centralidade'] += members_.shape[0] - 1\n",
    "            graph['senders'][s]['stats']['viral']['forca'] += dfgs[dfgs['viral']].shape[0]\n",
    "\n",
    "            # Node statuses: Misinformation\n",
    "            graph['senders'][s]['stats']['misinformation']['grau_centralidade'] += members_.shape[0] - 1\n",
    "            graph['senders'][s]['stats']['misinformation']['forca'] += dfgs[dfgs['misinformation']].shape[0]\n",
    "\n",
    "            # Listing receivers\n",
    "            for r in members_.keys():                 # r: Receiver\n",
    "                if s == r:\n",
    "                    continue\n",
    "                    \n",
    "                graph['senders'][s]['msgs'][r] = graph['senders'][s]['msgs'].get(r, 0) + msgs\n",
    "                graph['stats']['arestas'] += msgs\n",
    "\n",
    "    #\n",
    "    members = df.member.unique()\n",
    "    groups = df.group.unique()\n",
    "    \n",
    "    # Verbose\n",
    "    if v:\n",
    "        print('- Total de mensagens:', df.shape[0])\n",
    "        print('- Número de membros:\\n  - Ativos:', len(graph['senders']))\n",
    "        print('  - Total:', len(members))\n",
    "        print('- Número de grupos:', len(groups))\n",
    "        print()\n",
    "        \n",
    "        \n",
    "    return graph, members, groups"
   ]
  },
  {
   "cell_type": "markdown",
   "id": "292d05bf-689b-4641-9ea9-9226869ca81d",
   "metadata": {},
   "source": [
    "#### Grafo Geral"
   ]
  },
  {
   "cell_type": "code",
   "execution_count": 31,
   "id": "0027a676-5bbb-469b-a5fe-7f39aa9376f9",
   "metadata": {},
   "outputs": [
    {
     "name": "stdout",
     "output_type": "stream",
     "text": [
      "- Total de mensagens: 186316\n",
      "- Número de membros:\n",
      "  - Ativos: 6165\n",
      "  - Total: 6165\n",
      "- Número de grupos: 237\n",
      "\n",
      "CPU times: user 8.06 s, sys: 4.66 ms, total: 8.06 s\n",
      "Wall time: 8.06 s\n"
     ]
    }
   ],
   "source": [
    "%time geral, g_members, _ = build(df, v=True)"
   ]
  },
  {
   "cell_type": "markdown",
   "id": "a0d9d4fb-6310-4e7f-83cc-6510eeac97e7",
   "metadata": {},
   "source": [
    "#### Grafo Viral\n",
    "\n",
    "> Considerando viral se houver uma mensagem que foi enviada mais de uma vez"
   ]
  },
  {
   "cell_type": "code",
   "execution_count": 32,
   "id": "f87cd835-f0b2-45ec-ac90-8df181c63ebc",
   "metadata": {},
   "outputs": [
    {
     "name": "stdout",
     "output_type": "stream",
     "text": [
      "- Total de mensagens: 110091\n",
      "- Número de membros:\n",
      "  - Ativos: 3487\n",
      "  - Total: 3487\n",
      "- Número de grupos: 225\n",
      "\n",
      "CPU times: user 4.29 s, sys: 4.1 ms, total: 4.3 s\n",
      "Wall time: 4.29 s\n"
     ]
    }
   ],
   "source": [
    "%time viral, v_members, _ = build(df[df['viral']], v=True)"
   ]
  },
  {
   "cell_type": "markdown",
   "id": "2888b960-337d-4dba-baf0-fcf64e14db76",
   "metadata": {},
   "source": [
    "#### Grafo Desinformação"
   ]
  },
  {
   "cell_type": "code",
   "execution_count": 33,
   "id": "e1201819-6f88-44c9-b8b9-e8d0fc9c7c3a",
   "metadata": {},
   "outputs": [
    {
     "name": "stdout",
     "output_type": "stream",
     "text": [
      "- Total de mensagens: 8749\n",
      "- Número de membros:\n",
      "  - Ativos: 1647\n",
      "  - Total: 1647\n",
      "- Número de grupos: 175\n",
      "\n",
      "CPU times: user 745 ms, sys: 5.94 ms, total: 751 ms\n",
      "Wall time: 749 ms\n"
     ]
    }
   ],
   "source": [
    "%time misinformation, m_members, _ = build(df[df['misinformation']], v=True)"
   ]
  },
  {
   "cell_type": "markdown",
   "id": "93874bbd-be6a-458f-a5f7-674acb607528",
   "metadata": {},
   "source": [
    "## Part IV - Conexão com o Neo4J e Criação dos Grafos\n",
    "\n",
    "```sh\n",
    "# Start do container\n",
    "$ cd /path/to/work\n",
    "$ docker-compose -up -d neo4j\n",
    "```\n",
    "\n",
    "<div class=\"alert alert-block alert-info\">\n",
    "    A versão community do Neo4J não deixa fácil existirem vários databases, então eu joguei todos os databases em um único grafo com arestas de tipos diferentes.\n",
    "</div>"
   ]
  },
  {
   "cell_type": "code",
   "execution_count": 165,
   "id": "d36cf7ed-d636-42f1-bc45-9ead13dec88b",
   "metadata": {
    "scrolled": true
   },
   "outputs": [
    {
     "name": "stdout",
     "output_type": "stream",
     "text": [
      "Requirement already satisfied: py2neo in /opt/conda/lib/python3.11/site-packages (2021.2.4)\n",
      "Requirement already satisfied: certifi in /opt/conda/lib/python3.11/site-packages (from py2neo) (2023.7.22)\n",
      "Requirement already satisfied: interchange~=2021.0.4 in /opt/conda/lib/python3.11/site-packages (from py2neo) (2021.0.4)\n",
      "Requirement already satisfied: monotonic in /opt/conda/lib/python3.11/site-packages (from py2neo) (1.6)\n",
      "Requirement already satisfied: packaging in /opt/conda/lib/python3.11/site-packages (from py2neo) (23.2)\n",
      "Requirement already satisfied: pansi>=2020.7.3 in /opt/conda/lib/python3.11/site-packages (from py2neo) (2024.11.0)\n",
      "Requirement already satisfied: pygments>=2.0.0 in /opt/conda/lib/python3.11/site-packages (from py2neo) (2.16.1)\n",
      "Requirement already satisfied: six>=1.15.0 in /opt/conda/lib/python3.11/site-packages (from py2neo) (1.16.0)\n",
      "Requirement already satisfied: urllib3 in /opt/conda/lib/python3.11/site-packages (from py2neo) (2.0.7)\n",
      "Requirement already satisfied: pytz in /opt/conda/lib/python3.11/site-packages (from interchange~=2021.0.4->py2neo) (2023.3.post1)\n",
      "Requirement already satisfied: pillow in /opt/conda/lib/python3.11/site-packages (from pansi>=2020.7.3->py2neo) (11.0.0)\n"
     ]
    }
   ],
   "source": [
    "# Installs - Necessário porque meu Jupyter está em um Docker\n",
    "!pip install py2neo\n",
    "\n",
    "# Imports\n",
    "from py2neo import Graph"
   ]
  },
  {
   "cell_type": "code",
   "execution_count": 166,
   "id": "e414156a-4200-40d4-852b-a4a3fd7dfce5",
   "metadata": {},
   "outputs": [],
   "source": [
    "uri = \"bolt://neo4j:7687\"      # Deve coincidir com os valores informados no docker-compose.yml. Nesse caso o nome do serviço.\n",
    "username = \"neo4j\"             # O Neo4j exige esse usuário\n",
    "password = \"12345678\"          # O Neo4j exige uma senha de 8 dígitos\n",
    "\n",
    "#\n",
    "g = Graph(uri, auth=(username, password))\n",
    "# session = g.session(database=\"neo4j\") # Caso você tenha a versão paga"
   ]
  },
  {
   "cell_type": "markdown",
   "id": "72d6c4af-5802-42cd-ad4f-65c7c5d5e65e",
   "metadata": {},
   "source": [
    "#### Nós"
   ]
  },
  {
   "cell_type": "code",
   "execution_count": 173,
   "id": "923b5a1d-9e35-4977-a8ec-dcfde27ce804",
   "metadata": {},
   "outputs": [],
   "source": [
    "def create_nodes(driver, members):\n",
    "    query = f'''UNWIND [\n",
    "      {','.join(map(lambda m: f'{{name: \"{m}\", grau: \"{members[m][\"stats\"][\"geral\"][\"grau_centralidade\"]}\", forca: \"{members[m][\"stats\"][\"geral\"][\"forca\"]}\"}}', members))}\n",
    "    ] AS membro\n",
    "    \n",
    "    CREATE (m:Membro {{name: membro.name, grau: membro.grau, forca: membro.forca}})\n",
    "    '''\n",
    "\n",
    "    _ = driver.run(query)\n",
    "    return "
   ]
  },
  {
   "cell_type": "markdown",
   "id": "f44a3eae-d6e3-46d7-ad39-a6bf3e5b0764",
   "metadata": {},
   "source": [
    "##### Desinformação"
   ]
  },
  {
   "cell_type": "code",
   "execution_count": 177,
   "id": "9044278c-9118-49b7-97f2-b7b311bfe11c",
   "metadata": {},
   "outputs": [
    {
     "name": "stdout",
     "output_type": "stream",
     "text": [
      "CPU times: user 7.33 ms, sys: 5.08 ms, total: 12.4 ms\n",
      "Wall time: 830 ms\n"
     ]
    }
   ],
   "source": [
    "# Criando os membros\n",
    "%time create_nodes(g, misinformation['senders'])"
   ]
  },
  {
   "cell_type": "markdown",
   "id": "e738d33f-2ba3-463e-b891-dde667685be2",
   "metadata": {},
   "source": [
    "<div class=\"alert alert-block alert-info\">\n",
    "    Verificar com <code>MATCH(n) RETURN n LIMIT 50</code>\n",
    "</div>\n",
    "\n",
    "![](./files/images/neo4j-1.png)\n",
    "![](./files/images/neo4j-2.png)"
   ]
  },
  {
   "cell_type": "markdown",
   "id": "90fb46a8-9f22-42ff-b6b8-40ac5b041186",
   "metadata": {},
   "source": [
    "#### Arestas"
   ]
  },
  {
   "cell_type": "code",
   "execution_count": 187,
   "id": "f5c5ab60-8348-4e16-96cc-76d5f233178f",
   "metadata": {},
   "outputs": [],
   "source": [
    "def create_edges(driver, graph, start=0, v=False):\n",
    "    count = start\n",
    "    step = len(graph['senders'])//10\n",
    "    next = start + 1\n",
    "    \n",
    "    for s in graph['senders'].keys():\n",
    "        msgs = graph['senders'][s]['msgs']\n",
    "\n",
    "        for r in msgs:\n",
    "            query = f'''\n",
    "                MATCH(r:Membro {{name: \"{s}\"}})\n",
    "                MATCH(s:Membro {{name: \"{r}\"}})\n",
    "                CREATE (r)-[e:MSGs {{total: {msgs[r]}}}]->(s)\n",
    "            '''\n",
    "\n",
    "            _ = driver.run(query)\n",
    "\n",
    "        # Verbose: Para saber se está rodando :-)\n",
    "        if v:\n",
    "            count += 1\n",
    "            if count == next:\n",
    "                print(f'{count:04d}/{len(graph[\"senders\"])} ~ ({count/len(graph[\"senders\"])*100:.2f})%')\n",
    "                next += step"
   ]
  },
  {
   "cell_type": "markdown",
   "id": "e7e22cf3-7cc8-4100-8a8b-c296238f356e",
   "metadata": {},
   "source": [
    "##### Desinformação"
   ]
  },
  {
   "cell_type": "code",
   "execution_count": 186,
   "id": "2c827192-ce97-4424-9773-b18d85df3b85",
   "metadata": {},
   "outputs": [
    {
     "name": "stdout",
     "output_type": "stream",
     "text": [
      "0001/1647 ~ (0.06)%\n",
      "0165/1647 ~ (10.02)%\n",
      "0329/1647 ~ (19.98)%\n",
      "0493/1647 ~ (29.93)%\n",
      "0657/1647 ~ (39.89)%\n",
      "0821/1647 ~ (49.85)%\n",
      "0985/1647 ~ (59.81)%\n",
      "1149/1647 ~ (69.76)%\n",
      "1313/1647 ~ (79.72)%\n",
      "1477/1647 ~ (89.68)%\n",
      "1641/1647 ~ (99.64)%\n",
      "CPU times: user 9.96 s, sys: 1.8 s, total: 11.8 s\n",
      "Wall time: 3min 54s\n"
     ]
    }
   ],
   "source": [
    "# Misinformation\n",
    "%time _ = create_edges(g, misinformation, v=True)"
   ]
  },
  {
   "cell_type": "markdown",
   "id": "b5652b39-3104-4ba0-9f15-71e01934ca1a",
   "metadata": {},
   "source": [
    "<div class=\"alert alert-block alert-info\">\n",
    "    Verificar com <code>MATCH(n) RETURN n LIMIT 300</code><br/>\n",
    "    Disclaimer: Minha máquina não exibe mais que isso\n",
    "</div>\n",
    "\n",
    "![](./files/images/neo4j-3.png)"
   ]
  },
  {
   "cell_type": "markdown",
   "id": "1571a519-0ff8-4fd5-9eec-da1f74666fd7",
   "metadata": {},
   "source": [
    "#### Consulta da Calda Longa\n",
    "\n",
    "```\n",
    "MATCH (n)-->()\n",
    "WITH n, COUNT(*) AS Grau\n",
    "RETURN \n",
    "    CASE \n",
    "        WHEN Grau > 10 THEN 'Cabeça'\n",
    "        ELSE 'Calda'\n",
    "    END AS Tipo, \n",
    "    COUNT(n) AS Contagem\n",
    "ORDER BY Contagem;\n",
    "```\n",
    "\n",
    "|Tipo|Contagem|\n",
    "|--    |  --|\n",
    "|Calda | 469|\n",
    "|Cabeça|1152|\n",
    "\n",
    "> Esses dados são para o grafo de menságens virais"
   ]
  },
  {
   "cell_type": "markdown",
   "id": "b9cdca23-7bae-4cf5-a42a-d5aaa0e776a5",
   "metadata": {},
   "source": [
    "#### Backup do banco\n",
    "\n",
    "```sh\n",
    "#              CONTAINER                         DB\n",
    "$ docker exec -it neo4j neo4j-admin database dump neo4j --to-path=/dumps/\n",
    "```"
   ]
  },
  {
   "cell_type": "markdown",
   "id": "e30f1d35-97e4-4320-95ff-4ac9765cab3f",
   "metadata": {},
   "source": [
    "### Parte V - Apresentação dos stats\n",
    "> Monte uma tabela contendo a quantidade de nós e a quantidade de arestas para cada grafo\n",
    "(mensagens gerais, mensagens virais e mensagens com desinformação)."
   ]
  },
  {
   "cell_type": "code",
   "execution_count": 139,
   "id": "ae648b3c-f0b5-4b6e-a395-591bcb0fa264",
   "metadata": {},
   "outputs": [
    {
     "data": {
      "text/html": [
       "<div>\n",
       "<style scoped>\n",
       "    .dataframe tbody tr th:only-of-type {\n",
       "        vertical-align: middle;\n",
       "    }\n",
       "\n",
       "    .dataframe tbody tr th {\n",
       "        vertical-align: top;\n",
       "    }\n",
       "\n",
       "    .dataframe thead th {\n",
       "        text-align: right;\n",
       "    }\n",
       "</style>\n",
       "<table border=\"1\" class=\"dataframe\">\n",
       "  <thead>\n",
       "    <tr style=\"text-align: right;\">\n",
       "      <th></th>\n",
       "      <th>arestas</th>\n",
       "      <th>nos</th>\n",
       "      <th>geral</th>\n",
       "      <th>viral</th>\n",
       "      <th>misinformation</th>\n",
       "      <th>type</th>\n",
       "    </tr>\n",
       "  </thead>\n",
       "  <tbody>\n",
       "    <tr>\n",
       "      <th>0</th>\n",
       "      <td>25087510</td>\n",
       "      <td>6165</td>\n",
       "      <td>186316</td>\n",
       "      <td>110091</td>\n",
       "      <td>8749</td>\n",
       "      <td>geral</td>\n",
       "    </tr>\n",
       "    <tr>\n",
       "      <th>1</th>\n",
       "      <td>6925768</td>\n",
       "      <td>3487</td>\n",
       "      <td>110091</td>\n",
       "      <td>110091</td>\n",
       "      <td>5181</td>\n",
       "      <td>viral</td>\n",
       "    </tr>\n",
       "    <tr>\n",
       "      <th>2</th>\n",
       "      <td>416799</td>\n",
       "      <td>1647</td>\n",
       "      <td>8749</td>\n",
       "      <td>5181</td>\n",
       "      <td>8749</td>\n",
       "      <td>misinformation</td>\n",
       "    </tr>\n",
       "  </tbody>\n",
       "</table>\n",
       "</div>"
      ],
      "text/plain": [
       "    arestas   nos   geral   viral  misinformation            type\n",
       "0  25087510  6165  186316  110091            8749           geral\n",
       "1   6925768  3487  110091  110091            5181           viral\n",
       "2    416799  1647    8749    5181            8749  misinformation"
      ]
     },
     "execution_count": 139,
     "metadata": {},
     "output_type": "execute_result"
    }
   ],
   "source": [
    "geral['stats']['type'] = 'geral'\n",
    "viral['stats']['type'] = 'viral'\n",
    "misinformation['stats']['type'] = 'misinformation'\n",
    "\n",
    "#\n",
    "pd.DataFrame([geral['stats'], viral['stats'], misinformation['stats']])"
   ]
  },
  {
   "cell_type": "code",
   "execution_count": 135,
   "id": "bd609fa1-d453-4c31-b04a-20cf53a4469b",
   "metadata": {},
   "outputs": [
    {
     "data": {
      "text/plain": [
       "2"
      ]
     },
     "execution_count": 135,
     "metadata": {},
     "output_type": "execute_result"
    }
   ],
   "source": [
    "a = {'a':1, 'b': {'c':2, 'd':3}}\n",
    "len(a)"
   ]
  },
  {
   "cell_type": "markdown",
   "id": "fe369088-0446-4128-bc95-d6751ddcff3f",
   "metadata": {},
   "source": [
    "#### Status dos usuários"
   ]
  },
  {
   "cell_type": "code",
   "execution_count": 136,
   "id": "02e89694-c26d-49c8-9400-9683847affb1",
   "metadata": {},
   "outputs": [
    {
     "data": {
      "text/html": [
       "<div>\n",
       "<style scoped>\n",
       "    .dataframe tbody tr th:only-of-type {\n",
       "        vertical-align: middle;\n",
       "    }\n",
       "\n",
       "    .dataframe tbody tr th {\n",
       "        vertical-align: top;\n",
       "    }\n",
       "\n",
       "    .dataframe thead th {\n",
       "        text-align: right;\n",
       "    }\n",
       "</style>\n",
       "<table border=\"1\" class=\"dataframe\">\n",
       "  <thead>\n",
       "    <tr style=\"text-align: right;\">\n",
       "      <th></th>\n",
       "      <th>member</th>\n",
       "      <th>gcg</th>\n",
       "      <th>fg</th>\n",
       "      <th>gcv</th>\n",
       "      <th>fv</th>\n",
       "      <th>gcm</th>\n",
       "      <th>fm</th>\n",
       "      <th>receivers</th>\n",
       "      <th>gcg_viral</th>\n",
       "      <th>fg_viral</th>\n",
       "      <th>...</th>\n",
       "      <th>gcm_viral</th>\n",
       "      <th>fm_viral</th>\n",
       "      <th>receivers_viral</th>\n",
       "      <th>gcg_misinf</th>\n",
       "      <th>fg_misinf</th>\n",
       "      <th>gcv_misinf</th>\n",
       "      <th>fv_misinf</th>\n",
       "      <th>gcm_misinf</th>\n",
       "      <th>fm_misinf</th>\n",
       "      <th>receivers_misinf</th>\n",
       "    </tr>\n",
       "  </thead>\n",
       "  <tbody>\n",
       "    <tr>\n",
       "      <th>0</th>\n",
       "      <td>3a8e41b9e1da548ef0acd0a57b398da4</td>\n",
       "      <td>12</td>\n",
       "      <td>57</td>\n",
       "      <td>12</td>\n",
       "      <td>57</td>\n",
       "      <td>12</td>\n",
       "      <td>12</td>\n",
       "      <td>3</td>\n",
       "      <td>12.0</td>\n",
       "      <td>57.0</td>\n",
       "      <td>...</td>\n",
       "      <td>12.0</td>\n",
       "      <td>12.0</td>\n",
       "      <td>3.0</td>\n",
       "      <td>NaN</td>\n",
       "      <td>NaN</td>\n",
       "      <td>NaN</td>\n",
       "      <td>NaN</td>\n",
       "      <td>NaN</td>\n",
       "      <td>NaN</td>\n",
       "      <td>NaN</td>\n",
       "    </tr>\n",
       "    <tr>\n",
       "      <th>1</th>\n",
       "      <td>df5ce4fa38568a7c3ddb881ec2bcf327</td>\n",
       "      <td>12</td>\n",
       "      <td>43</td>\n",
       "      <td>12</td>\n",
       "      <td>43</td>\n",
       "      <td>12</td>\n",
       "      <td>12</td>\n",
       "      <td>3</td>\n",
       "      <td>12.0</td>\n",
       "      <td>43.0</td>\n",
       "      <td>...</td>\n",
       "      <td>12.0</td>\n",
       "      <td>12.0</td>\n",
       "      <td>3.0</td>\n",
       "      <td>NaN</td>\n",
       "      <td>NaN</td>\n",
       "      <td>NaN</td>\n",
       "      <td>NaN</td>\n",
       "      <td>NaN</td>\n",
       "      <td>NaN</td>\n",
       "      <td>NaN</td>\n",
       "    </tr>\n",
       "    <tr>\n",
       "      <th>2</th>\n",
       "      <td>42991ff9fbd534363741ee7531beb189</td>\n",
       "      <td>12</td>\n",
       "      <td>4</td>\n",
       "      <td>12</td>\n",
       "      <td>4</td>\n",
       "      <td>12</td>\n",
       "      <td>12</td>\n",
       "      <td>3</td>\n",
       "      <td>12.0</td>\n",
       "      <td>4.0</td>\n",
       "      <td>...</td>\n",
       "      <td>12.0</td>\n",
       "      <td>12.0</td>\n",
       "      <td>3.0</td>\n",
       "      <td>NaN</td>\n",
       "      <td>NaN</td>\n",
       "      <td>NaN</td>\n",
       "      <td>NaN</td>\n",
       "      <td>NaN</td>\n",
       "      <td>NaN</td>\n",
       "      <td>NaN</td>\n",
       "    </tr>\n",
       "    <tr>\n",
       "      <th>3</th>\n",
       "      <td>88cc4f89f35493b30b96a60da7938e1c</td>\n",
       "      <td>12</td>\n",
       "      <td>4</td>\n",
       "      <td>12</td>\n",
       "      <td>4</td>\n",
       "      <td>12</td>\n",
       "      <td>12</td>\n",
       "      <td>3</td>\n",
       "      <td>12.0</td>\n",
       "      <td>4.0</td>\n",
       "      <td>...</td>\n",
       "      <td>12.0</td>\n",
       "      <td>12.0</td>\n",
       "      <td>3.0</td>\n",
       "      <td>NaN</td>\n",
       "      <td>NaN</td>\n",
       "      <td>NaN</td>\n",
       "      <td>NaN</td>\n",
       "      <td>NaN</td>\n",
       "      <td>NaN</td>\n",
       "      <td>NaN</td>\n",
       "    </tr>\n",
       "    <tr>\n",
       "      <th>4</th>\n",
       "      <td>ef496106907ece8b169c6219e5470b2c</td>\n",
       "      <td>13</td>\n",
       "      <td>4660</td>\n",
       "      <td>13</td>\n",
       "      <td>4656</td>\n",
       "      <td>13</td>\n",
       "      <td>13</td>\n",
       "      <td>11</td>\n",
       "      <td>10.0</td>\n",
       "      <td>4656.0</td>\n",
       "      <td>...</td>\n",
       "      <td>10.0</td>\n",
       "      <td>10.0</td>\n",
       "      <td>8.0</td>\n",
       "      <td>NaN</td>\n",
       "      <td>NaN</td>\n",
       "      <td>NaN</td>\n",
       "      <td>NaN</td>\n",
       "      <td>NaN</td>\n",
       "      <td>NaN</td>\n",
       "      <td>NaN</td>\n",
       "    </tr>\n",
       "  </tbody>\n",
       "</table>\n",
       "<p>5 rows × 22 columns</p>\n",
       "</div>"
      ],
      "text/plain": [
       "                             member  gcg    fg  gcv    fv  gcm  fm  receivers  \\\n",
       "0  3a8e41b9e1da548ef0acd0a57b398da4   12    57   12    57   12  12          3   \n",
       "1  df5ce4fa38568a7c3ddb881ec2bcf327   12    43   12    43   12  12          3   \n",
       "2  42991ff9fbd534363741ee7531beb189   12     4   12     4   12  12          3   \n",
       "3  88cc4f89f35493b30b96a60da7938e1c   12     4   12     4   12  12          3   \n",
       "4  ef496106907ece8b169c6219e5470b2c   13  4660   13  4656   13  13         11   \n",
       "\n",
       "   gcg_viral  fg_viral  ...  gcm_viral  fm_viral  receivers_viral  gcg_misinf  \\\n",
       "0       12.0      57.0  ...       12.0      12.0              3.0         NaN   \n",
       "1       12.0      43.0  ...       12.0      12.0              3.0         NaN   \n",
       "2       12.0       4.0  ...       12.0      12.0              3.0         NaN   \n",
       "3       12.0       4.0  ...       12.0      12.0              3.0         NaN   \n",
       "4       10.0    4656.0  ...       10.0      10.0              8.0         NaN   \n",
       "\n",
       "   fg_misinf  gcv_misinf  fv_misinf  gcm_misinf  fm_misinf  receivers_misinf  \n",
       "0        NaN         NaN        NaN         NaN        NaN               NaN  \n",
       "1        NaN         NaN        NaN         NaN        NaN               NaN  \n",
       "2        NaN         NaN        NaN         NaN        NaN               NaN  \n",
       "3        NaN         NaN        NaN         NaN        NaN               NaN  \n",
       "4        NaN         NaN        NaN         NaN        NaN               NaN  \n",
       "\n",
       "[5 rows x 22 columns]"
      ]
     },
     "execution_count": 136,
     "metadata": {},
     "output_type": "execute_result"
    }
   ],
   "source": [
    "def flatten_stats(senders):\n",
    "    data = []\n",
    "    for i in senders:\n",
    "        stats = senders[i]['stats']\n",
    "        receivers = len(senders[i]['msgs'])\n",
    "        \n",
    "        data.append({\n",
    "            'member': i, \n",
    "            'gcg': stats['geral']['grau_centralidade'],\n",
    "            'fg': stats['geral']['forca'],\n",
    "            'gcv': stats['viral']['grau_centralidade'],\n",
    "            'fv': stats['viral']['forca'],\n",
    "            'gcm': stats['misinformation']['grau_centralidade'],\n",
    "            'fm': stats['misinformation']['grau_centralidade'],\n",
    "            'receivers': receivers\n",
    "        })\n",
    "\n",
    "    return data\n",
    "\n",
    "gstats = pd.DataFrame(flatten_stats(geral['senders']))\n",
    "vstats = pd.DataFrame(flatten_stats(viral['senders']))\n",
    "mstats = pd.DataFrame(flatten_stats(misinformation['senders']))\n",
    "\n",
    "dfstats = pd.merge(pd.merge(gstats, vstats, on='member', how='left', suffixes=('', '_viral')), \n",
    "         mstats, on='member', how='left', suffixes=('', '_misinf'))\n",
    "\n",
    "dfstats.head(5)"
   ]
  },
  {
   "cell_type": "markdown",
   "id": "f61489d1-1f61-4a11-bff0-a9abbea816a6",
   "metadata": {},
   "source": [
    "##### Identifique os 5 usuários mais ativos."
   ]
  },
  {
   "cell_type": "code",
   "execution_count": 143,
   "id": "4e30fce7-e0c3-48dd-bf47-d98688073972",
   "metadata": {},
   "outputs": [
    {
     "data": {
      "text/html": [
       "<div>\n",
       "<style scoped>\n",
       "    .dataframe tbody tr th:only-of-type {\n",
       "        vertical-align: middle;\n",
       "    }\n",
       "\n",
       "    .dataframe tbody tr th {\n",
       "        vertical-align: top;\n",
       "    }\n",
       "\n",
       "    .dataframe thead th {\n",
       "        text-align: right;\n",
       "    }\n",
       "</style>\n",
       "<table border=\"1\" class=\"dataframe\">\n",
       "  <thead>\n",
       "    <tr style=\"text-align: right;\">\n",
       "      <th></th>\n",
       "      <th>member</th>\n",
       "      <th>fg</th>\n",
       "    </tr>\n",
       "  </thead>\n",
       "  <tbody>\n",
       "    <tr>\n",
       "      <th>4</th>\n",
       "      <td>ef496106907ece8b169c6219e5470b2c</td>\n",
       "      <td>4660</td>\n",
       "    </tr>\n",
       "    <tr>\n",
       "      <th>7</th>\n",
       "      <td>4ea1b3ee637da811b7d2d0df32db21f9</td>\n",
       "      <td>4405</td>\n",
       "    </tr>\n",
       "    <tr>\n",
       "      <th>27</th>\n",
       "      <td>c5fff63b6151f93e1ce86d12f8acbee1</td>\n",
       "      <td>3259</td>\n",
       "    </tr>\n",
       "    <tr>\n",
       "      <th>5050</th>\n",
       "      <td>3545bf472c131392f18ed78a07f7552e</td>\n",
       "      <td>2970</td>\n",
       "    </tr>\n",
       "    <tr>\n",
       "      <th>5853</th>\n",
       "      <td>95cbc2a13f1f4996d4510db5aab593b9</td>\n",
       "      <td>2321</td>\n",
       "    </tr>\n",
       "  </tbody>\n",
       "</table>\n",
       "</div>"
      ],
      "text/plain": [
       "                                member    fg\n",
       "4     ef496106907ece8b169c6219e5470b2c  4660\n",
       "7     4ea1b3ee637da811b7d2d0df32db21f9  4405\n",
       "27    c5fff63b6151f93e1ce86d12f8acbee1  3259\n",
       "5050  3545bf472c131392f18ed78a07f7552e  2970\n",
       "5853  95cbc2a13f1f4996d4510db5aab593b9  2321"
      ]
     },
     "execution_count": 143,
     "metadata": {},
     "output_type": "execute_result"
    }
   ],
   "source": [
    "# Os de maior força geral\n",
    "dfstats.sort_values(by='fg', ascending=False)[['member', 'fg']].head(5)\n",
    "\n",
    "# Total de mensagens dos 5 mais ativos (Os que mais mandam mensagens) \n",
    "# df.member.value_counts()[:5]"
   ]
  },
  {
   "cell_type": "markdown",
   "id": "44009f53-7172-430a-8bfb-a7d5764d7f16",
   "metadata": {},
   "source": [
    "##### Identifique os 5 usuários que mais espalham desinformação."
   ]
  },
  {
   "cell_type": "code",
   "execution_count": 144,
   "id": "0f65e3c0-453e-44c7-b66d-bfba68fc5d96",
   "metadata": {},
   "outputs": [
    {
     "name": "stdout",
     "output_type": "stream",
     "text": [
      "# Interpretação 1:\n",
      " member\n",
      "b632aa10c44879310730bbfced256e20    208\n",
      "c2b374a51f8bc0ff08ba7b1e64b32f88    181\n",
      "ce32c56a358658441c705bc4d1e1dbf4     78\n",
      "4b44334cc5e4c42d35213f08916bdcab     73\n",
      "42ea1937652ca4a8698e2f5c1b985823     71\n",
      "Name: count, dtype: int64\n",
      "\n",
      "\n",
      "# Interpretação 2:\n",
      "                                   score_misinformation\n",
      "member                                                \n",
      "c2b374a51f8bc0ff08ba7b1e64b32f88            307.342982\n",
      "a5595c3d215d032fe4dd43d236553b92            288.975761\n",
      "b632aa10c44879310730bbfced256e20            261.053636\n",
      "f0e309ae6ce7e83b9a508b14549d69a3            249.295923\n",
      "d49cc6c9b024321630d3e6d75ab93705            240.956210\n"
     ]
    }
   ],
   "source": [
    "# Total de mensagens com desinformação\n",
    "print('# Interpretação 1:\\n', df[df.misinformation].member.value_counts().head(5))\n",
    "\n",
    "# Soma das desinformações\n",
    "print('\\n\\n# Interpretação 2:\\n', df.groupby(['member'])[['score_misinformation']].sum().sort_values(by='score_misinformation', ascending=False).head(5))"
   ]
  },
  {
   "cell_type": "markdown",
   "id": "a3787478-34c6-4fca-a679-6f8d3212db58",
   "metadata": {},
   "source": [
    "##### Identifique os 5 usuários mais influentes."
   ]
  },
  {
   "cell_type": "code",
   "execution_count": 154,
   "id": "81029197-af26-463c-8ea1-c560b2b27591",
   "metadata": {},
   "outputs": [
    {
     "data": {
      "text/html": [
       "<div>\n",
       "<style scoped>\n",
       "    .dataframe tbody tr th:only-of-type {\n",
       "        vertical-align: middle;\n",
       "    }\n",
       "\n",
       "    .dataframe tbody tr th {\n",
       "        vertical-align: top;\n",
       "    }\n",
       "\n",
       "    .dataframe thead th {\n",
       "        text-align: right;\n",
       "    }\n",
       "</style>\n",
       "<table border=\"1\" class=\"dataframe\">\n",
       "  <thead>\n",
       "    <tr style=\"text-align: right;\">\n",
       "      <th></th>\n",
       "      <th>member</th>\n",
       "      <th>receivers</th>\n",
       "    </tr>\n",
       "  </thead>\n",
       "  <tbody>\n",
       "    <tr>\n",
       "      <th>47</th>\n",
       "      <td>5edf52cacaced85501ff2c59d316d696</td>\n",
       "      <td>1165</td>\n",
       "    </tr>\n",
       "    <tr>\n",
       "      <th>363</th>\n",
       "      <td>3b7dfe232868b409b22d6717df3e3851</td>\n",
       "      <td>1080</td>\n",
       "    </tr>\n",
       "    <tr>\n",
       "      <th>502</th>\n",
       "      <td>db163c719d8fe5031fbd48783d6554b1</td>\n",
       "      <td>1028</td>\n",
       "    </tr>\n",
       "    <tr>\n",
       "      <th>645</th>\n",
       "      <td>b348ff97155fcbcfd7036153c89ddb68</td>\n",
       "      <td>1006</td>\n",
       "    </tr>\n",
       "    <tr>\n",
       "      <th>427</th>\n",
       "      <td>e6022a7e3955297a7a4c3028f0f2a99d</td>\n",
       "      <td>1006</td>\n",
       "    </tr>\n",
       "  </tbody>\n",
       "</table>\n",
       "</div>"
      ],
      "text/plain": [
       "                               member  receivers\n",
       "47   5edf52cacaced85501ff2c59d316d696       1165\n",
       "363  3b7dfe232868b409b22d6717df3e3851       1080\n",
       "502  db163c719d8fe5031fbd48783d6554b1       1028\n",
       "645  b348ff97155fcbcfd7036153c89ddb68       1006\n",
       "427  e6022a7e3955297a7a4c3028f0f2a99d       1006"
      ]
     },
     "execution_count": 154,
     "metadata": {},
     "output_type": "execute_result"
    }
   ],
   "source": [
    "# Os usuários que mandam mensagens para o maior número de pessoas\n",
    "dfstats.sort_values(by='receivers', ascending=False)[['member', 'receivers']].head(5)"
   ]
  },
  {
   "cell_type": "markdown",
   "id": "07b86765-f524-497c-b359-3b953067b8a4",
   "metadata": {},
   "source": [
    "##### Identifique os 5 usuários mais conectados."
   ]
  },
  {
   "cell_type": "code",
   "execution_count": 155,
   "id": "829df2cc-f45e-4cc9-8f6a-6a4a86fbfd16",
   "metadata": {},
   "outputs": [
    {
     "data": {
      "text/html": [
       "<div>\n",
       "<style scoped>\n",
       "    .dataframe tbody tr th:only-of-type {\n",
       "        vertical-align: middle;\n",
       "    }\n",
       "\n",
       "    .dataframe tbody tr th {\n",
       "        vertical-align: top;\n",
       "    }\n",
       "\n",
       "    .dataframe thead th {\n",
       "        text-align: right;\n",
       "    }\n",
       "</style>\n",
       "<table border=\"1\" class=\"dataframe\">\n",
       "  <thead>\n",
       "    <tr style=\"text-align: right;\">\n",
       "      <th></th>\n",
       "      <th>member</th>\n",
       "      <th>gcg</th>\n",
       "    </tr>\n",
       "  </thead>\n",
       "  <tbody>\n",
       "    <tr>\n",
       "      <th>47</th>\n",
       "      <td>5edf52cacaced85501ff2c59d316d696</td>\n",
       "      <td>1192</td>\n",
       "    </tr>\n",
       "    <tr>\n",
       "      <th>363</th>\n",
       "      <td>3b7dfe232868b409b22d6717df3e3851</td>\n",
       "      <td>1176</td>\n",
       "    </tr>\n",
       "    <tr>\n",
       "      <th>502</th>\n",
       "      <td>db163c719d8fe5031fbd48783d6554b1</td>\n",
       "      <td>1054</td>\n",
       "    </tr>\n",
       "    <tr>\n",
       "      <th>645</th>\n",
       "      <td>b348ff97155fcbcfd7036153c89ddb68</td>\n",
       "      <td>1034</td>\n",
       "    </tr>\n",
       "    <tr>\n",
       "      <th>427</th>\n",
       "      <td>e6022a7e3955297a7a4c3028f0f2a99d</td>\n",
       "      <td>1026</td>\n",
       "    </tr>\n",
       "  </tbody>\n",
       "</table>\n",
       "</div>"
      ],
      "text/plain": [
       "                               member   gcg\n",
       "47   5edf52cacaced85501ff2c59d316d696  1192\n",
       "363  3b7dfe232868b409b22d6717df3e3851  1176\n",
       "502  db163c719d8fe5031fbd48783d6554b1  1054\n",
       "645  b348ff97155fcbcfd7036153c89ddb68  1034\n",
       "427  e6022a7e3955297a7a4c3028f0f2a99d  1026"
      ]
     },
     "execution_count": 155,
     "metadata": {},
     "output_type": "execute_result"
    }
   ],
   "source": [
    "# Os de maior grau de centralidade\n",
    "dfstats.sort_values(by='gcg', ascending=False)[['member', 'gcg']].head(5)"
   ]
  },
  {
   "cell_type": "code",
   "execution_count": 7,
   "id": "e79e16f0-f63c-4be4-a69e-1a85b1e1b3e8",
   "metadata": {},
   "outputs": [],
   "source": [
    "df.to_csv('../lista-2/files/dados.csv', header=True, index=False)"
   ]
  }
 ],
 "metadata": {
  "kernelspec": {
   "display_name": "Python 3 (ipykernel)",
   "language": "python",
   "name": "python3"
  },
  "language_info": {
   "codemirror_mode": {
    "name": "ipython",
    "version": 3
   },
   "file_extension": ".py",
   "mimetype": "text/x-python",
   "name": "python",
   "nbconvert_exporter": "python",
   "pygments_lexer": "ipython3",
   "version": "3.11.6"
  }
 },
 "nbformat": 4,
 "nbformat_minor": 5
}
