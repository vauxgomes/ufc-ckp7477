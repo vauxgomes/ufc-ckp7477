{
 "cells": [
  {
   "cell_type": "markdown",
   "id": "42a94957-64a9-47df-9c36-1a2ea2def2dc",
   "metadata": {},
   "source": [
    "# CKP8087 - Estrutura de Dados\n",
    "<img  src=\"https://img.shields.io/badge/UFC-CKP9011-000000?style=for-the-badge&logo=data:image/png;base64,iVBORw0KGgoAAAANSUhEUgAAAAsAAAAOCAYAAAD5YeaVAAAABHNCSVQICAgIfAhkiAAAAAlwSFlzAAAANgAAADYBsVpjYQAAABl0RVh0U29mdHdhcmUAd3d3Lmlua3NjYXBlLm9yZ5vuPBoAAAENSURBVCiRbdFBS9QBEAXw36y7Wq6IgUSGsixhJBpiRBB08XN7ETyIFyPYui2KBXsQTUphsbbx4Cz8E+cyw8ybN/NmQsMy8xO+YRkdXGA9Ig6g3QC+r/Ad/lS8hp9TTKtBvFB+Dt2qZXNyuxEnNnCORUQ1Xj8G/lX7trAfEVeZOYu3j63xDG8wg35mdiPiFpf/gTNzocZ+xQgv8KGYp3WRmTtYxQBPiv0Wh5W/wjaG7WI8K1HThlPsYowevmO+hZe4wfOImJTIV5jgafl/WInM3MBmMY5xXP41ltx/cgaDKAF999/q1L0/Yq9ygc8RMWxBRJzgN7bwF8PS0MNpRAwf3nlUAo/qdAf4gh9TwB2yEFM5Ddb+rgAAAABJRU5ErkJggg==\" /> <img src=\"https://img.shields.io/badge/Jupyter-000000?style=for-the-badge&logo=jupyter&logoColor=white\" /> <img src=\"https://img.shields.io/badge/Python-000000?style=for-the-badge&logo=python&logoColor=white\" />\n",
    "\n",
    "*Vaux Gomes*\n",
    "\n",
    "## Parte I - Preparação dos Dockers\n",
    "\n",
    "#### Pre-requisitos\n",
    " - Docker\n",
    " - Docker Compose ou Plugin\n",
    "\n",
    "#### Comandos\n",
    "\n",
    "```sh\n",
    "$ cd /path/to/work\n",
    "$ cat > docker-compose.yml << 'EOF'\n",
    "service:\n",
    "  postgres:\n",
    "    image: postgres\n",
    "    container_name: postgres\n",
    "    ports:\n",
    "      - 5432:5432\n",
    "    expose:\n",
    "      - 5432\n",
    "    networks:\n",
    "      - local-network\n",
    "    environment:\n",
    "      - POSTGRES_USER=root\n",
    "      - POSTGRES_PASSWORD=root\n",
    "      - POSTGRES_DB=postgres\n",
    "\n",
    "  neo4j:\n",
    "    image: neo4j:latest\n",
    "    container_name: neo4j\n",
    "    ports:\n",
    "      - \"7474:7474\"   # Neo4j Browser\n",
    "      - \"7687:7687\"   # Bolt protocol\n",
    "    networks:\n",
    "      - local-network\n",
    "    environment:\n",
    "      - NEO4J_AUTH=neo4j/12345678             # Set do username/password\n",
    "    volumes:\n",
    "      - ./Neo4j/data:/data                    # Pasta para armazenar os dados\n",
    "      - ./Neo4j/logs:/logs                    # Pasta para armazenar os logs\n",
    "      - ./Neo4j/import:/var/lib/neo4j/import  # Pasta para importe de CSV\n",
    "      - ./Neo4j/plugins:/plugins              # Pasta dos plugins\n",
    "      - ./Neo4j/dumps:/dumps                  # Pasta para os dumps\n",
    "\n",
    "networks:\n",
    "  local-network:\n",
    "    driver: bridge\n",
    "EOF\n",
    "```\n",
    "\n",
    "<div class=\"alert alert-block alert-info\">\n",
    "    [OPCIONAL]: Escolha um nome melhor para o banco\n",
    "</div>"
   ]
  },
  {
   "cell_type": "markdown",
   "id": "4563c9ce-150c-43b4-87df-d5ecddab7537",
   "metadata": {},
   "source": [
    "## Parte II - Restauração do Dump\n",
    "\n",
    "```sh\n",
    "# Start do container\n",
    "$ cd /path/to/work\n",
    "$ docker-compose -up -d postgres\n",
    "\n",
    "# Restore do dump\n",
    "$ docker exec -i postgres psql -U root -d postgres < /path/to/backup.dump\n",
    "```\n",
    "\n",
    "![](./files/images/dbeaver.png)"
   ]
  },
  {
   "cell_type": "markdown",
   "id": "3ef566e7-c4d7-4378-8fb3-df3d5e872e3e",
   "metadata": {},
   "source": [
    "## Parte III - Importando e tradandos os dados"
   ]
  },
  {
   "cell_type": "code",
   "execution_count": 1,
   "id": "019d5fca-b926-47bf-b193-bc9cc850bfa8",
   "metadata": {
    "scrolled": true
   },
   "outputs": [
    {
     "name": "stdout",
     "output_type": "stream",
     "text": [
      "Requirement already satisfied: pandas in /opt/conda/lib/python3.11/site-packages (2.2.3)\n",
      "Requirement already satisfied: numpy>=1.23.2 in /opt/conda/lib/python3.11/site-packages (from pandas) (2.1.3)\n",
      "Requirement already satisfied: python-dateutil>=2.8.2 in /opt/conda/lib/python3.11/site-packages (from pandas) (2.8.2)\n",
      "Requirement already satisfied: pytz>=2020.1 in /opt/conda/lib/python3.11/site-packages (from pandas) (2023.3.post1)\n",
      "Requirement already satisfied: tzdata>=2022.7 in /opt/conda/lib/python3.11/site-packages (from pandas) (2024.2)\n",
      "Requirement already satisfied: six>=1.5 in /opt/conda/lib/python3.11/site-packages (from python-dateutil>=2.8.2->pandas) (1.16.0)\n",
      "Requirement already satisfied: sqlalchemy in /opt/conda/lib/python3.11/site-packages (2.0.22)\n",
      "Requirement already satisfied: typing-extensions>=4.2.0 in /opt/conda/lib/python3.11/site-packages (from sqlalchemy) (4.8.0)\n",
      "Requirement already satisfied: greenlet!=0.4.17 in /opt/conda/lib/python3.11/site-packages (from sqlalchemy) (3.0.0)\n",
      "Requirement already satisfied: psycopg2-binary in /opt/conda/lib/python3.11/site-packages (2.9.10)\n"
     ]
    }
   ],
   "source": [
    "# Installs - Necessário porque meu Jupyter está em um Docker\n",
    "!pip install pandas  \n",
    "!pip install sqlalchemy\n",
    "!pip install psycopg2-binary       # Drive do postgress \n",
    "\n",
    "# Imports\n",
    "import numpy as np\n",
    "import pandas as pd\n",
    "import psycopg2 as pg"
   ]
  },
  {
   "cell_type": "code",
   "execution_count": 2,
   "id": "fe244c3f-dd77-4e2c-9782-1bded4d81fae",
   "metadata": {},
   "outputs": [
    {
     "name": "stderr",
     "output_type": "stream",
     "text": [
      "/tmp/ipykernel_14890/364225286.py:25: UserWarning: pandas only supports SQLAlchemy connectable (engine/connection) or database string URI or sqlite3 DBAPI2 connection. Other DBAPI2 objects are not tested. Please consider using SQLAlchemy.\n",
      "  df = pd.read_sql(query, conn)\n"
     ]
    },
    {
     "name": "stdout",
     "output_type": "stream",
     "text": [
      "(407911, 5)\n"
     ]
    },
    {
     "data": {
      "text/html": [
       "<div>\n",
       "<style scoped>\n",
       "    .dataframe tbody tr th:only-of-type {\n",
       "        vertical-align: middle;\n",
       "    }\n",
       "\n",
       "    .dataframe tbody tr th {\n",
       "        vertical-align: top;\n",
       "    }\n",
       "\n",
       "    .dataframe thead th {\n",
       "        text-align: right;\n",
       "    }\n",
       "</style>\n",
       "<table border=\"1\" class=\"dataframe\">\n",
       "  <thead>\n",
       "    <tr style=\"text-align: right;\">\n",
       "      <th></th>\n",
       "      <th>member</th>\n",
       "      <th>group</th>\n",
       "      <th>text</th>\n",
       "      <th>score_sentiment</th>\n",
       "      <th>score_misinformation</th>\n",
       "    </tr>\n",
       "  </thead>\n",
       "  <tbody>\n",
       "    <tr>\n",
       "      <th>0</th>\n",
       "      <td>eacc81d81047368e08bdcee59a0e69e2</td>\n",
       "      <td>970fc18f0d5608107b7822a2adbac3f8</td>\n",
       "      <td>None</td>\n",
       "      <td>NaN</td>\n",
       "      <td>NaN</td>\n",
       "    </tr>\n",
       "    <tr>\n",
       "      <th>1</th>\n",
       "      <td>542d038bf37b9f9871d6e8dac6fd4230</td>\n",
       "      <td>589e16e85b442fa82e8e0061fa2731e6</td>\n",
       "      <td>Vou ali</td>\n",
       "      <td>0.0000</td>\n",
       "      <td>NaN</td>\n",
       "    </tr>\n",
       "    <tr>\n",
       "      <th>2</th>\n",
       "      <td>3a8e41b9e1da548ef0acd0a57b398da4</td>\n",
       "      <td>e110071613239754d38878f7e046e95b</td>\n",
       "      <td>Jovem vai a sessão parlamentar na câmara dos v...</td>\n",
       "      <td>0.6371</td>\n",
       "      <td>0.001867</td>\n",
       "    </tr>\n",
       "    <tr>\n",
       "      <th>3</th>\n",
       "      <td>3a8e41b9e1da548ef0acd0a57b398da4</td>\n",
       "      <td>7ee4235534ec624ebd61373b87ad8c20</td>\n",
       "      <td>Jovem vai a sessão parlamentar na câmara dos v...</td>\n",
       "      <td>0.6371</td>\n",
       "      <td>0.001867</td>\n",
       "    </tr>\n",
       "    <tr>\n",
       "      <th>4</th>\n",
       "      <td>3a8e41b9e1da548ef0acd0a57b398da4</td>\n",
       "      <td>ee85f63c945ffa50ba8bb57acf2c1bf9</td>\n",
       "      <td>Jovem vai a sessão parlamentar na câmara dos v...</td>\n",
       "      <td>0.6371</td>\n",
       "      <td>0.001867</td>\n",
       "    </tr>\n",
       "  </tbody>\n",
       "</table>\n",
       "</div>"
      ],
      "text/plain": [
       "                             member                             group  \\\n",
       "0  eacc81d81047368e08bdcee59a0e69e2  970fc18f0d5608107b7822a2adbac3f8   \n",
       "1  542d038bf37b9f9871d6e8dac6fd4230  589e16e85b442fa82e8e0061fa2731e6   \n",
       "2  3a8e41b9e1da548ef0acd0a57b398da4  e110071613239754d38878f7e046e95b   \n",
       "3  3a8e41b9e1da548ef0acd0a57b398da4  7ee4235534ec624ebd61373b87ad8c20   \n",
       "4  3a8e41b9e1da548ef0acd0a57b398da4  ee85f63c945ffa50ba8bb57acf2c1bf9   \n",
       "\n",
       "                                                text  score_sentiment  \\\n",
       "0                                               None              NaN   \n",
       "1                                            Vou ali           0.0000   \n",
       "2  Jovem vai a sessão parlamentar na câmara dos v...           0.6371   \n",
       "3  Jovem vai a sessão parlamentar na câmara dos v...           0.6371   \n",
       "4  Jovem vai a sessão parlamentar na câmara dos v...           0.6371   \n",
       "\n",
       "   score_misinformation  \n",
       "0                   NaN  \n",
       "1                   NaN  \n",
       "2              0.001867  \n",
       "3              0.001867  \n",
       "4              0.001867  "
      ]
     },
     "execution_count": 2,
     "metadata": {},
     "output_type": "execute_result"
    }
   ],
   "source": [
    "# DB Config\n",
    "username  = 'root'\n",
    "password  = 'root'\n",
    "host      = 'postgres' # NOME DO CONTAINER\n",
    "port      = '5432'\n",
    "database  = 'postgres' # NOME DO DATABASE\n",
    "\n",
    "# Connection\n",
    "conn = pg.connect(\n",
    "    user=username,\n",
    "    password=password,\n",
    "    host=host,\n",
    "    port=port,\n",
    "    dbname=database\n",
    ")\n",
    "\n",
    "# Dataframe\n",
    "query = '''\n",
    "SELECT \n",
    "    id_member_anonymous as member,  \n",
    "    id_group_anonymous as group,\n",
    "    text_content_anonymous as text,\n",
    "    score_sentiment, score_misinformation\n",
    "FROM tb_whatsapp_messages WHERE trava_zap = false'''\n",
    "df = pd.read_sql(query, conn)\n",
    "\n",
    "conn.close()\n",
    "\n",
    "# Info\n",
    "rows = df.shape[0]\n",
    "\n",
    "# Data\n",
    "print(df.shape)\n",
    "df.head()"
   ]
  },
  {
   "cell_type": "markdown",
   "id": "ff5bef4e-f086-4356-b117-43343d3159a8",
   "metadata": {},
   "source": [
    "### Filtros & Flags"
   ]
  },
  {
   "cell_type": "code",
   "execution_count": 3,
   "id": "41198473-6b1f-4386-b6f8-2ac3a29c30b3",
   "metadata": {},
   "outputs": [
    {
     "name": "stdout",
     "output_type": "stream",
     "text": [
      "Reduzido para: (186316, 5) (45.68% do tamanho original)\n"
     ]
    }
   ],
   "source": [
    "# Filtro do número de palavras (5+)\n",
    "df = df[df.text.str.count('\\s').gt(3)] # 4 espaços ou mais\n",
    "print(f'Reduzido para: {df.shape} ({(df.shape[0]/rows)*100:.2f}% do tamanho original)')"
   ]
  },
  {
   "cell_type": "code",
   "execution_count": 7,
   "id": "82678e1d-bdf8-44cc-a735-5269900f65b9",
   "metadata": {},
   "outputs": [
    {
     "name": "stdout",
     "output_type": "stream",
     "text": [
      "Reduzido para: (110091, 6) (26.99% do tamanho original)\n"
     ]
    }
   ],
   "source": [
    "# Flag de viral\n",
    "counts = df['text'].value_counts()\n",
    "df['viral'] = df['text'].isin(counts[counts > 1].index)\n",
    "print(f'Reduzido para: {df[df.viral == True].shape} ({(df[df.viral == True].shape[0]/rows)*100:.2f}% do tamanho)')"
   ]
  },
  {
   "cell_type": "code",
   "execution_count": 9,
   "id": "7c3761e6-30c7-433e-9f65-9eb5da8e6f99",
   "metadata": {},
   "outputs": [
    {
     "name": "stdout",
     "output_type": "stream",
     "text": [
      "Reduzido para: (8749, 8) (2.14% do tamanho)\n"
     ]
    }
   ],
   "source": [
    "# Flaf de misinformation\n",
    "df['misinformation'] = df.score_misinformation >= 0.7\n",
    "print(f'Reduzido para: {df[df.misinformation == True].shape} ({(df[df.misinformation == True].shape[0]/rows)*100:.2f}% do tamanho)')"
   ]
  },
  {
   "cell_type": "markdown",
   "id": "8e8d6dbd-2930-4e2d-a949-deb3d0d32108",
   "metadata": {},
   "source": [
    "### Grafos"
   ]
  },
  {
   "cell_type": "code",
   "execution_count": 10,
   "id": "1b9c3428-dcf6-46d0-9d02-ce699d0e6cb1",
   "metadata": {
    "scrolled": true
   },
   "outputs": [],
   "source": [
    "def build(df, v=False):\n",
    "    '''\n",
    "    Função para mapeamento do dataframe em uma estrutura de contagem de mensagens\n",
    "    \n",
    "    G = {\n",
    "        'sender': {\n",
    "            'receiver_1': 10,\n",
    "            'receiver_2': 10\n",
    "        }...\n",
    "    }\n",
    "    '''\n",
    "    \n",
    "    graph = {}\n",
    "    \n",
    "    for g in df.group.unique()[:]:\n",
    "        df_ = df[df.group == g]                 # Group filter\n",
    "        members_ = df_.member.value_counts()    # Member counts\n",
    "        \n",
    "        for s, count in members_.items():       # s: Sender\n",
    "            for r in members_.keys():           # r: Receiver\n",
    "                if s == r:\n",
    "                    continue\n",
    "    \n",
    "                graph[s] = graph.get(s, {})\n",
    "                graph[s][r] = graph[s].get(r, 0) + count\n",
    "\n",
    "    #\n",
    "    members = df.member.unique()\n",
    "    groups = df.group.unique()\n",
    "    \n",
    "    # Verbose\n",
    "    if v:\n",
    "        print('- Total de mensagens:', df.shape[0])\n",
    "        print('- Número de membros:\\n  - Ativos:', len(graph))\n",
    "        print('  - Total:', len(members))\n",
    "        print('- Número de grupos:', len(groups))\n",
    "        print()\n",
    "        \n",
    "        \n",
    "    return graph, members, groups\n"
   ]
  },
  {
   "cell_type": "markdown",
   "id": "292d05bf-689b-4641-9ea9-9226869ca81d",
   "metadata": {},
   "source": [
    "#### Grafo Geral"
   ]
  },
  {
   "cell_type": "code",
   "execution_count": 11,
   "id": "0027a676-5bbb-469b-a5fe-7f39aa9376f9",
   "metadata": {},
   "outputs": [
    {
     "name": "stdout",
     "output_type": "stream",
     "text": [
      "- Total de mensagens: 186316\n",
      "- Número de membros:\n",
      "  - Ativos: 6149\n",
      "  - Total: 6165\n",
      "- Número de grupos: 237\n",
      "\n",
      "CPU times: user 3.87 s, sys: 0 ns, total: 3.87 s\n",
      "Wall time: 3.87 s\n"
     ]
    }
   ],
   "source": [
    "%time geral, g_members, _ = build(df, v=True)"
   ]
  },
  {
   "cell_type": "markdown",
   "id": "a0d9d4fb-6310-4e7f-83cc-6510eeac97e7",
   "metadata": {},
   "source": [
    "#### Grafo Viral\n",
    "\n",
    "> Considerando viral se houver uma mensagem que foi enviada mais de uma vez"
   ]
  },
  {
   "cell_type": "code",
   "execution_count": 12,
   "id": "f87cd835-f0b2-45ec-ac90-8df181c63ebc",
   "metadata": {},
   "outputs": [
    {
     "name": "stdout",
     "output_type": "stream",
     "text": [
      "- Total de mensagens: 110091\n",
      "- Número de membros:\n",
      "  - Ativos: 3472\n",
      "  - Total: 3487\n",
      "- Número de grupos: 225\n",
      "\n",
      "CPU times: user 2.52 s, sys: 0 ns, total: 2.52 s\n",
      "Wall time: 2.52 s\n"
     ]
    }
   ],
   "source": [
    "%time viral, v_members, _ = build(df[df['viral'] == True], v=True)"
   ]
  },
  {
   "cell_type": "markdown",
   "id": "2888b960-337d-4dba-baf0-fcf64e14db76",
   "metadata": {},
   "source": [
    "#### Grafo Desinformação"
   ]
  },
  {
   "cell_type": "code",
   "execution_count": 13,
   "id": "e1201819-6f88-44c9-b8b9-e8d0fc9c7c3a",
   "metadata": {},
   "outputs": [
    {
     "name": "stdout",
     "output_type": "stream",
     "text": [
      "- Total de mensagens: 8749\n",
      "- Número de membros:\n",
      "  - Ativos: 1621\n",
      "  - Total: 1647\n",
      "- Número de grupos: 175\n",
      "\n",
      "CPU times: user 193 ms, sys: 1 ms, total: 194 ms\n",
      "Wall time: 193 ms\n"
     ]
    }
   ],
   "source": [
    "%time misinformation, m_members, _ = build(df[df['misinformation'] == True], v=True)"
   ]
  },
  {
   "cell_type": "markdown",
   "id": "93874bbd-be6a-458f-a5f7-674acb607528",
   "metadata": {},
   "source": [
    "## Part IV - Conexão com o Neo4J e Criação dos Grafos\n",
    "\n",
    "```sh\n",
    "# Start do container\n",
    "$ cd /path/to/work\n",
    "$ docker-compose -up -d neo4j\n",
    "```\n",
    "\n",
    "<div class=\"alert alert-block alert-info\">\n",
    "    A versão community do Neo4J não deixa fácil existirem vários databases, então eu joguei todos os databases em um único grafo com arestas de tipos diferentes.\n",
    "</div>"
   ]
  },
  {
   "cell_type": "code",
   "execution_count": 14,
   "id": "d36cf7ed-d636-42f1-bc45-9ead13dec88b",
   "metadata": {
    "scrolled": true
   },
   "outputs": [
    {
     "name": "stdout",
     "output_type": "stream",
     "text": [
      "Requirement already satisfied: py2neo in /opt/conda/lib/python3.11/site-packages (2021.2.4)\n",
      "Requirement already satisfied: certifi in /opt/conda/lib/python3.11/site-packages (from py2neo) (2023.7.22)\n",
      "Requirement already satisfied: interchange~=2021.0.4 in /opt/conda/lib/python3.11/site-packages (from py2neo) (2021.0.4)\n",
      "Requirement already satisfied: monotonic in /opt/conda/lib/python3.11/site-packages (from py2neo) (1.6)\n",
      "Requirement already satisfied: packaging in /opt/conda/lib/python3.11/site-packages (from py2neo) (23.2)\n",
      "Requirement already satisfied: pansi>=2020.7.3 in /opt/conda/lib/python3.11/site-packages (from py2neo) (2024.11.0)\n",
      "Requirement already satisfied: pygments>=2.0.0 in /opt/conda/lib/python3.11/site-packages (from py2neo) (2.16.1)\n",
      "Requirement already satisfied: six>=1.15.0 in /opt/conda/lib/python3.11/site-packages (from py2neo) (1.16.0)\n",
      "Requirement already satisfied: urllib3 in /opt/conda/lib/python3.11/site-packages (from py2neo) (2.0.7)\n",
      "Requirement already satisfied: pytz in /opt/conda/lib/python3.11/site-packages (from interchange~=2021.0.4->py2neo) (2023.3.post1)\n",
      "Requirement already satisfied: pillow in /opt/conda/lib/python3.11/site-packages (from pansi>=2020.7.3->py2neo) (11.0.0)\n"
     ]
    }
   ],
   "source": [
    "# Installs - Necessário porque meu Jupyter está em um Docker\n",
    "!pip install py2neo\n",
    "\n",
    "# Imports\n",
    "from py2neo import Graph"
   ]
  },
  {
   "cell_type": "code",
   "execution_count": 15,
   "id": "e414156a-4200-40d4-852b-a4a3fd7dfce5",
   "metadata": {},
   "outputs": [],
   "source": [
    "uri = \"bolt://neo4j:7687\"      # Deve coincidir com os valores informados no docker-compose.yml. Nesse caso o nome do serviço.\n",
    "username = \"neo4j\"             # O Neo4j exige esse usuário\n",
    "password = \"12345678\"          # O Neo4j exige uma senha de 8 dígitos\n",
    "\n",
    "#\n",
    "g = Graph(uri, auth=(username, password))\n",
    "# session = g.session(database=\"neo4j\") # Caso você tenha a versão paga"
   ]
  },
  {
   "cell_type": "markdown",
   "id": "72d6c4af-5802-42cd-ad4f-65c7c5d5e65e",
   "metadata": {},
   "source": [
    "#### Nós"
   ]
  },
  {
   "cell_type": "code",
   "execution_count": 16,
   "id": "923b5a1d-9e35-4977-a8ec-dcfde27ce804",
   "metadata": {},
   "outputs": [],
   "source": [
    "def create_nodes(driver, members):\n",
    "    query = f'''UNWIND [\n",
    "      {','.join(map(lambda m: f'{{name: \"{m}\"}}', members))}\n",
    "    ] AS membro\n",
    "    \n",
    "    CREATE (m:Membro {{name: membro.name}})\n",
    "    '''\n",
    "    \n",
    "    _ = driver.run(query)\n",
    "    return "
   ]
  },
  {
   "cell_type": "code",
   "execution_count": 17,
   "id": "9044278c-9118-49b7-97f2-b7b311bfe11c",
   "metadata": {},
   "outputs": [
    {
     "name": "stdout",
     "output_type": "stream",
     "text": [
      "CPU times: user 2.16 ms, sys: 7.03 ms, total: 9.19 ms\n",
      "Wall time: 245 ms\n"
     ]
    }
   ],
   "source": [
    "# Criando os membros\n",
    "%time create_nodes(g, m_members)"
   ]
  },
  {
   "cell_type": "markdown",
   "id": "e738d33f-2ba3-463e-b891-dde667685be2",
   "metadata": {},
   "source": [
    "<div class=\"alert alert-block alert-info\">\n",
    "    Verificar com <code>MATCH(n) RETURN n LIMIT 50</code>\n",
    "</div>\n",
    "\n",
    "![](./files/images/neo4j-1.png)"
   ]
  },
  {
   "cell_type": "markdown",
   "id": "90fb46a8-9f22-42ff-b6b8-40ac5b041186",
   "metadata": {},
   "source": [
    "#### Arestas"
   ]
  },
  {
   "cell_type": "code",
   "execution_count": 18,
   "id": "f5c5ab60-8348-4e16-96cc-76d5f233178f",
   "metadata": {},
   "outputs": [],
   "source": [
    "def create_edges(driver, graph, start=0, v=False):\n",
    "    count = start\n",
    "    step = len(graph)//10\n",
    "    next = start + 1\n",
    "    \n",
    "    for s, msgs in graph.items():\n",
    "        for r in msgs:\n",
    "            query = f'''\n",
    "                MATCH(r:Membro {{name: \"{s}\"}})\n",
    "                MATCH(s:Membro {{name: \"{r}\"}})\n",
    "                CREATE (r)-[e:MSGs {{total: {graph[s][r]}}}]->(s)\n",
    "            '''\n",
    "            _ = driver.run(query)\n",
    "\n",
    "        # Verbose\n",
    "        if v:\n",
    "            count += 1\n",
    "            if count == next:\n",
    "                print(f'{count:04d}/{len(graph)} ~ ({count/len(graph)*100:.2f})%')\n",
    "                next += step"
   ]
  },
  {
   "cell_type": "code",
   "execution_count": 19,
   "id": "2c827192-ce97-4424-9773-b18d85df3b85",
   "metadata": {},
   "outputs": [
    {
     "name": "stdout",
     "output_type": "stream",
     "text": [
      "0001/1621 ~ (0.00)% 0324/1621 ~ (0.20)% 0486/1621 ~ (0.30)% 0648/1621 ~ (0.40)% 0810/1621 ~ (0.50)% 0972/1621 ~ (0.60)% 1134/1621 ~ (0.70)% 1296/1621 ~ (0.80)% 1458/1621 ~ (0.90)% 1620/1621 ~ (1.00)% CPU times: user 9.98 s, sys: 1.87 s, total: 11.8 s\n",
      "Wall time: 3min 36s\n"
     ]
    }
   ],
   "source": [
    "# Misinformation\n",
    "%time _ = create_edges(g, misinformation, v=True)"
   ]
  },
  {
   "cell_type": "markdown",
   "id": "b5652b39-3104-4ba0-9f15-71e01934ca1a",
   "metadata": {},
   "source": [
    "<div class=\"alert alert-block alert-info\">\n",
    "    Verificar com <code>MATCH(n) RETURN n LIMIT 300</code>\n",
    "</div>\n",
    "\n",
    "![](./files/images/neo4j-3.png)"
   ]
  },
  {
   "cell_type": "markdown",
   "id": "38ef87bb-8e8d-48f8-811f-4b58574ed7b6",
   "metadata": {},
   "source": [
    "#### Backup do banco\n",
    "\n",
    "```sh\n",
    "#              CONTAINER                         DB\n",
    "$ docker exec -it neo4j neo4j-admin database dump neo4j --to-path=/dumps/\n",
    "```\n",
    "\n",
    "### Parte V - Cálculos das métricas"
   ]
  },
  {
   "cell_type": "code",
   "execution_count": null,
   "id": "ae648b3c-f0b5-4b6e-a395-591bcb0fa264",
   "metadata": {},
   "outputs": [],
   "source": []
  }
 ],
 "metadata": {
  "kernelspec": {
   "display_name": "Python 3 (ipykernel)",
   "language": "python",
   "name": "python3"
  },
  "language_info": {
   "codemirror_mode": {
    "name": "ipython",
    "version": 3
   },
   "file_extension": ".py",
   "mimetype": "text/x-python",
   "name": "python",
   "nbconvert_exporter": "python",
   "pygments_lexer": "ipython3",
   "version": "3.11.6"
  }
 },
 "nbformat": 4,
 "nbformat_minor": 5
}
