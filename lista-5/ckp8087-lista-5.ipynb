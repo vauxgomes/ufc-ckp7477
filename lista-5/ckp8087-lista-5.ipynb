{
 "cells": [
  {
   "cell_type": "markdown",
   "id": "8f845055-aa8e-4144-a384-11b7cc873a4a",
   "metadata": {},
   "source": [
    "# CKP8087 - Estrutura de Dados\n",
    "<img  src=\"https://img.shields.io/badge/UFC_CKP8087-VAUX GOMES-000000?style=for-the-badge&logo=data:image/png;base64,iVBORw0KGgoAAAANSUhEUgAAAAsAAAAOCAYAAAD5YeaVAAAABHNCSVQICAgIfAhkiAAAAAlwSFlzAAAANgAAADYBsVpjYQAAABl0RVh0U29mdHdhcmUAd3d3Lmlua3NjYXBlLm9yZ5vuPBoAAAENSURBVCiRbdFBS9QBEAXw36y7Wq6IgUSGsixhJBpiRBB08XN7ETyIFyPYui2KBXsQTUphsbbx4Cz8E+cyw8ybN/NmQsMy8xO+YRkdXGA9Ig6g3QC+r/Ad/lS8hp9TTKtBvFB+Dt2qZXNyuxEnNnCORUQ1Xj8G/lX7trAfEVeZOYu3j63xDG8wg35mdiPiFpf/gTNzocZ+xQgv8KGYp3WRmTtYxQBPiv0Wh5W/wjaG7WI8K1HThlPsYowevmO+hZe4wfOImJTIV5jgafl/WInM3MBmMY5xXP41ltx/cgaDKAF999/q1L0/Yq9ygc8RMWxBRJzgN7bwF8PS0MNpRAwf3nlUAo/qdAf4gh9TwB2yEFM5Ddb+rgAAAABJRU5ErkJggg==\" /> <img src=\"https://img.shields.io/badge/Jupyter-000000?style=for-the-badge&logo=jupyter&logoColor=white\" /> <img src=\"https://img.shields.io/badge/Python-000000?style=for-the-badge&logo=python&logoColor=white\" /> "
   ]
  },
  {
   "cell_type": "markdown",
   "id": "472fb699",
   "metadata": {},
   "source": [
    "### Bibliotecas principais"
   ]
  },
  {
   "cell_type": "code",
   "execution_count": 3,
   "id": "e4908a70",
   "metadata": {},
   "outputs": [
    {
     "name": "stderr",
     "output_type": "stream",
     "text": [
      "[nltk_data] Downloading package stopwords to /Users/vaux/nltk_data...\n",
      "[nltk_data]   Package stopwords is already up-to-date!\n",
      "[nltk_data] Downloading package punkt to /Users/vaux/nltk_data...\n",
      "[nltk_data]   Package punkt is already up-to-date!\n"
     ]
    }
   ],
   "source": [
    "import pandas as pd\n",
    "from app.module.tfidf import TFIDF"
   ]
  },
  {
   "cell_type": "markdown",
   "id": "fcac5624",
   "metadata": {},
   "source": [
    "### Data"
   ]
  },
  {
   "cell_type": "code",
   "execution_count": 4,
   "id": "532ee65f",
   "metadata": {},
   "outputs": [
    {
     "data": {
      "text/plain": [
       "(269473, 1)"
      ]
     },
     "execution_count": 4,
     "metadata": {},
     "output_type": "execute_result"
    }
   ],
   "source": [
    "df = pd.read_csv('./app/files/documents.csv')\n",
    "df = df.dropna().reset_index(drop=True)\n",
    "df.shape"
   ]
  },
  {
   "cell_type": "markdown",
   "id": "e935c3ad",
   "metadata": {},
   "source": [
    "### TF-IDF"
   ]
  },
  {
   "cell_type": "code",
   "execution_count": 5,
   "id": "72685ffd",
   "metadata": {},
   "outputs": [
    {
     "name": "stdout",
     "output_type": "stream",
     "text": [
      "Vocabulário: 50136 palavras\n",
      "Ocorrências: 50136 palavras\n"
     ]
    }
   ],
   "source": [
    "# Loading\n",
    "tfidf = TFIDF('./app/data')\n",
    "tfidf.load()"
   ]
  },
  {
   "cell_type": "markdown",
   "id": "067953ea",
   "metadata": {},
   "source": [
    "##### Sampling"
   ]
  },
  {
   "cell_type": "code",
   "execution_count": 6,
   "id": "51dcc99f",
   "metadata": {},
   "outputs": [
    {
     "data": {
      "text/plain": [
       "(53895, 1)"
      ]
     },
     "execution_count": 6,
     "metadata": {},
     "output_type": "execute_result"
    }
   ],
   "source": [
    "documents = df.sample(frac=0.2, random_state=42).reset_index(drop=True)\n",
    "documents.shape"
   ]
  },
  {
   "cell_type": "code",
   "execution_count": 7,
   "id": "1add45fe",
   "metadata": {},
   "outputs": [
    {
     "data": {
      "text/html": [
       "<div>\n",
       "<style scoped>\n",
       "    .dataframe tbody tr th:only-of-type {\n",
       "        vertical-align: middle;\n",
       "    }\n",
       "\n",
       "    .dataframe tbody tr th {\n",
       "        vertical-align: top;\n",
       "    }\n",
       "\n",
       "    .dataframe thead th {\n",
       "        text-align: right;\n",
       "    }\n",
       "</style>\n",
       "<table border=\"1\" class=\"dataframe\">\n",
       "  <thead>\n",
       "    <tr style=\"text-align: right;\">\n",
       "      <th></th>\n",
       "      <th>text</th>\n",
       "    </tr>\n",
       "  </thead>\n",
       "  <tbody>\n",
       "    <tr>\n",
       "      <th>0</th>\n",
       "      <td>*Presidente do BNB anuncia redução de juros do...</td>\n",
       "    </tr>\n",
       "    <tr>\n",
       "      <th>1</th>\n",
       "      <td>https://g37.com.br/brasil/stf-cassa-decisao-qu...</td>\n",
       "    </tr>\n",
       "    <tr>\n",
       "      <th>2</th>\n",
       "      <td>grupo de petralhas para invadir,  e falar umas...</td>\n",
       "    </tr>\n",
       "    <tr>\n",
       "      <th>3</th>\n",
       "      <td>*BRASIL: ARTHUR LIRA SURPREENDE E FALA EM LIMI...</td>\n",
       "    </tr>\n",
       "    <tr>\n",
       "      <th>4</th>\n",
       "      <td>📰 *Eliziane Gama ataca STF: \"Indevida interfer...</td>\n",
       "    </tr>\n",
       "  </tbody>\n",
       "</table>\n",
       "</div>"
      ],
      "text/plain": [
       "                                                text\n",
       "0  *Presidente do BNB anuncia redução de juros do...\n",
       "1  https://g37.com.br/brasil/stf-cassa-decisao-qu...\n",
       "2  grupo de petralhas para invadir,  e falar umas...\n",
       "3  *BRASIL: ARTHUR LIRA SURPREENDE E FALA EM LIMI...\n",
       "4  📰 *Eliziane Gama ataca STF: \"Indevida interfer..."
      ]
     },
     "execution_count": 7,
     "metadata": {},
     "output_type": "execute_result"
    }
   ],
   "source": [
    "documents.head()"
   ]
  },
  {
   "cell_type": "markdown",
   "id": "4a30e2b3",
   "metadata": {},
   "source": [
    "##### Populando TF-IDF Handler"
   ]
  },
  {
   "cell_type": "code",
   "execution_count": 8,
   "id": "1e8fabef",
   "metadata": {},
   "outputs": [
    {
     "name": "stdout",
     "output_type": "stream",
     "text": [
      "Nada para salvar!\n",
      "Nada para salvar!\n"
     ]
    }
   ],
   "source": [
    "# Config\n",
    "force_load = False\n",
    "\n",
    "# Adding\n",
    "if force_load or len(tfidf.documents) == 0:\n",
    "  for document_id, document in documents.iterrows():\n",
    "    tfidf.add(document_id, document.text)\n",
    "\n",
    "# Saving \n",
    "tfidf.save()"
   ]
  },
  {
   "cell_type": "markdown",
   "id": "5e47c56d",
   "metadata": {},
   "source": [
    "### Simulação de pesquisa"
   ]
  },
  {
   "cell_type": "code",
   "execution_count": 9,
   "id": "f833065d",
   "metadata": {},
   "outputs": [],
   "source": [
    "def search(w, all=False, top=5):\n",
    "  scores = tfidf.tfidf(w, all=all)[:top] \n",
    "  \n",
    "  for score, document_id in scores:\n",
    "    print(score, document_id, documents.iloc[document_id].text)"
   ]
  },
  {
   "cell_type": "code",
   "execution_count": 10,
   "id": "59d07fe9",
   "metadata": {},
   "outputs": [
    {
     "name": "stdout",
     "output_type": "stream",
     "text": [
      "2.522115859425745 85 *BRASIL: CONGRESSO DERRUBA NOVOS VETOS PRESIDENCIAIS DE LULA; ASSISTA*\n",
      "\n",
      "https://www.pensandodireita.com/2023/10/brasil-congresso-derruba-movos-vetos.html?m=1\n",
      "2.522115859425745 132 Lula corta R$ 19 milhões que seriam destinados à construção da ponte de Rodrigues Alves e investimentos na segurança pública do Acre - https://manciolimaemfoco.com.br/2023/10/19/lula-corta-r-19-milhoes-que-seriam-destinados-a-construcao-da-ponte-de-rodrigues-alves-e-investimentos-na-seguranca-publica-do-acre/\n",
      "2.522115859425745 133 *Zelensky critica Lula: “Guerra é na Ucrânia, não no Brasil”*\n",
      "https://pleno.news/mundo/zelensky-critica-lula-guerra-e-na-ucrania-nao-no-brasil.html?utm_source=whatsapp\n",
      "2.522115859425745 137 Javier Milei diz em entrevista que Lula tem “vocação totalitária” https://terrabrasilnoticias.com/2023/09/javier-milei-diz-em-entrevista-que-lula-tem-vocacao-totalitaria\n",
      "2.522115859425745 160 *RUI COSTA MINISTRO DO LULA FALANDO QUE AS DROGAS EMPREGAM MUITA GENTE ESSE DEVE RECEBER MILHÕES DE REAIS*\n"
     ]
    }
   ],
   "source": [
    "search('lula', all=False, top=5)"
   ]
  },
  {
   "cell_type": "code",
   "execution_count": 12,
   "id": "0c1c4ac2",
   "metadata": {},
   "outputs": [
    {
     "name": "stdout",
     "output_type": "stream",
     "text": [
      "3.059298205035837 323 URGENTE !! BOLSONARO MANDA GRAVE RECADO PARA OS BRASILEIROS !! TUDO REVELADO...\n",
      "Link: https://rumble.com/v3mhbyu-urgente-bolsonaro-manda-grave-recado-para-os-brasileiros-tudo-revelado....html\n",
      "3.059298205035837 327 https://m.facebook.com/story.php?story_fbid=pfbid02oFmGy2m3e7EafVaRtUYqpeJAgqVF6WLvnkwZsvFG8GqiPXh8oNtMRLGBW1dujLHvl&id=100047642290865&sfnsn=wiwspwa&mibextid=RUbZ1f\n",
      "\n",
      "Não seremos usados para atacar o Bolsonaro.\n",
      "\n",
      "Afaste-se de todo e qualquer FALSO CENTRO ESPÍRITA de inimigos do Bolsonaro.\n",
      "\n",
      ".\n",
      "3.059298205035837 381 Bolsonaro vagabundo\n",
      "3.059298205035837 425 *BRASIL: BOLSONARO APONTA OBJETIVO OBSCURO DE INQUÉRITO ENVOLVENDO LUCIANO HANG; ASSISTA*\n",
      "\n",
      "https://www.pensandodireita.com/2023/10/brasil-bolsonaro-aponta-objetivo.html?m=1\n",
      "3.059298205035837 442 Enquanto Luladrão se esconde com seus pares, Bolsonaro continua surfando\n"
     ]
    }
   ],
   "source": [
    "search('bolsonaro', all=True, top=5)"
   ]
  }
 ],
 "metadata": {
  "kernelspec": {
   "display_name": ".venv",
   "language": "python",
   "name": "python3"
  },
  "language_info": {
   "codemirror_mode": {
    "name": "ipython",
    "version": 3
   },
   "file_extension": ".py",
   "mimetype": "text/x-python",
   "name": "python",
   "nbconvert_exporter": "python",
   "pygments_lexer": "ipython3",
   "version": "3.10.16"
  }
 },
 "nbformat": 4,
 "nbformat_minor": 5
}
