{
 "cells": [
  {
   "cell_type": "markdown",
   "id": "8f845055-aa8e-4144-a384-11b7cc873a4a",
   "metadata": {},
   "source": [
    "# CKP8087 - Estrutura de Dados\n",
    "<img  src=\"https://img.shields.io/badge/UFC_CKP8087-VAUX GOMES-000000?style=for-the-badge&logo=data:image/png;base64,iVBORw0KGgoAAAANSUhEUgAAAAsAAAAOCAYAAAD5YeaVAAAABHNCSVQICAgIfAhkiAAAAAlwSFlzAAAANgAAADYBsVpjYQAAABl0RVh0U29mdHdhcmUAd3d3Lmlua3NjYXBlLm9yZ5vuPBoAAAENSURBVCiRbdFBS9QBEAXw36y7Wq6IgUSGsixhJBpiRBB08XN7ETyIFyPYui2KBXsQTUphsbbx4Cz8E+cyw8ybN/NmQsMy8xO+YRkdXGA9Ig6g3QC+r/Ad/lS8hp9TTKtBvFB+Dt2qZXNyuxEnNnCORUQ1Xj8G/lX7trAfEVeZOYu3j63xDG8wg35mdiPiFpf/gTNzocZ+xQgv8KGYp3WRmTtYxQBPiv0Wh5W/wjaG7WI8K1HThlPsYowevmO+hZe4wfOImJTIV5jgafl/WInM3MBmMY5xXP41ltx/cgaDKAF999/q1L0/Yq9ygc8RMWxBRJzgN7bwF8PS0MNpRAwf3nlUAo/qdAf4gh9TwB2yEFM5Ddb+rgAAAABJRU5ErkJggg==\" /> <img src=\"https://img.shields.io/badge/Jupyter-000000?style=for-the-badge&logo=jupyter&logoColor=white\" /> <img src=\"https://img.shields.io/badge/Python-000000?style=for-the-badge&logo=python&logoColor=white\" /> "
   ]
  },
  {
   "cell_type": "markdown",
   "id": "472fb699",
   "metadata": {},
   "source": [
    "#### Bibliotecas principais"
   ]
  },
  {
   "cell_type": "code",
   "execution_count": null,
   "id": "e4908a70",
   "metadata": {},
   "outputs": [],
   "source": [
    "import nltk\n",
    "from nltk.corpus import stopwords\n",
    "from nltk.stem import PorterStemmer\n",
    "\n",
    "# NLKT Downloads\n",
    "nltk.download('stopwords') # Baixa as stopwords \n",
    "nltk.download('punkt') # Necessário para tokenizar as palavras\n"
   ]
  },
  {
   "cell_type": "markdown",
   "id": "adc32d49",
   "metadata": {},
   "source": [
    "#### Stopwords & Stemming"
   ]
  },
  {
   "cell_type": "code",
   "execution_count": null,
   "id": "4a33c7d8",
   "metadata": {},
   "outputs": [],
   "source": [
    "#\n",
    "stopwords = stopwords.words('portuguese')\n",
    "stemmer = PorterStemmer()\n",
    "\n",
    "#\n",
    "def treat_text(text):\n",
    "  return [stemmer.stem(w) for w in set(text).difference(stopwords)]"
   ]
  }
 ],
 "metadata": {
  "kernelspec": {
   "display_name": ".venv",
   "language": "python",
   "name": "python3"
  },
  "language_info": {
   "codemirror_mode": {
    "name": "ipython",
    "version": 3
   },
   "file_extension": ".py",
   "mimetype": "text/x-python",
   "name": "python",
   "nbconvert_exporter": "python",
   "pygments_lexer": "ipython3",
   "version": "3.10.16"
  }
 },
 "nbformat": 4,
 "nbformat_minor": 5
}
