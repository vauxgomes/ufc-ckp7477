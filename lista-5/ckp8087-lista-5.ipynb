{
 "cells": [
  {
   "cell_type": "markdown",
   "id": "8f845055-aa8e-4144-a384-11b7cc873a4a",
   "metadata": {},
   "source": [
    "# CKP8087 - Estrutura de Dados\n",
    "<img  src=\"https://img.shields.io/badge/UFC_CKP8087-VAUX GOMES-000000?style=for-the-badge&logo=data:image/png;base64,iVBORw0KGgoAAAANSUhEUgAAAAsAAAAOCAYAAAD5YeaVAAAABHNCSVQICAgIfAhkiAAAAAlwSFlzAAAANgAAADYBsVpjYQAAABl0RVh0U29mdHdhcmUAd3d3Lmlua3NjYXBlLm9yZ5vuPBoAAAENSURBVCiRbdFBS9QBEAXw36y7Wq6IgUSGsixhJBpiRBB08XN7ETyIFyPYui2KBXsQTUphsbbx4Cz8E+cyw8ybN/NmQsMy8xO+YRkdXGA9Ig6g3QC+r/Ad/lS8hp9TTKtBvFB+Dt2qZXNyuxEnNnCORUQ1Xj8G/lX7trAfEVeZOYu3j63xDG8wg35mdiPiFpf/gTNzocZ+xQgv8KGYp3WRmTtYxQBPiv0Wh5W/wjaG7WI8K1HThlPsYowevmO+hZe4wfOImJTIV5jgafl/WInM3MBmMY5xXP41ltx/cgaDKAF999/q1L0/Yq9ygc8RMWxBRJzgN7bwF8PS0MNpRAwf3nlUAo/qdAf4gh9TwB2yEFM5Ddb+rgAAAABJRU5ErkJggg==\" /> <img src=\"https://img.shields.io/badge/Jupyter-000000?style=for-the-badge&logo=jupyter&logoColor=white\" /> <img src=\"https://img.shields.io/badge/Python-000000?style=for-the-badge&logo=python&logoColor=white\" /> "
   ]
  },
  {
   "cell_type": "markdown",
   "id": "472fb699",
   "metadata": {},
   "source": [
    "### Bibliotecas principais"
   ]
  },
  {
   "cell_type": "code",
   "execution_count": 1,
   "id": "e4908a70",
   "metadata": {},
   "outputs": [
    {
     "name": "stderr",
     "output_type": "stream",
     "text": [
      "[nltk_data] Downloading package stopwords to /Users/vaux/nltk_data...\n",
      "[nltk_data]   Package stopwords is already up-to-date!\n",
      "[nltk_data] Downloading package punkt to /Users/vaux/nltk_data...\n",
      "[nltk_data]   Package punkt is already up-to-date!\n"
     ]
    }
   ],
   "source": [
    "import pandas as pd\n",
    "from app.module.tfidf import TFIDF"
   ]
  },
  {
   "cell_type": "markdown",
   "id": "fcac5624",
   "metadata": {},
   "source": [
    "### Data"
   ]
  },
  {
   "cell_type": "code",
   "execution_count": 2,
   "id": "532ee65f",
   "metadata": {},
   "outputs": [
    {
     "data": {
      "text/plain": [
       "(269473, 1)"
      ]
     },
     "execution_count": 2,
     "metadata": {},
     "output_type": "execute_result"
    }
   ],
   "source": [
    "df = pd.read_csv('./app/files/documents.csv')\n",
    "df = df.dropna().reset_index(drop=True)\n",
    "df.shape"
   ]
  },
  {
   "cell_type": "markdown",
   "id": "e935c3ad",
   "metadata": {},
   "source": [
    "### TF-IDF"
   ]
  },
  {
   "cell_type": "code",
   "execution_count": 3,
   "id": "72685ffd",
   "metadata": {},
   "outputs": [
    {
     "name": "stdout",
     "output_type": "stream",
     "text": [
      "Vocabulário: 7557 palavras\n",
      "Ocorrências: 7557 palavras\n"
     ]
    }
   ],
   "source": [
    "# Loading\n",
    "tfidf = TFIDF('./app/data')\n",
    "tfidf.load()"
   ]
  },
  {
   "cell_type": "markdown",
   "id": "4a30e2b3",
   "metadata": {},
   "source": [
    "##### Populando TF-IDF Handler"
   ]
  },
  {
   "cell_type": "code",
   "execution_count": 4,
   "id": "1e8fabef",
   "metadata": {},
   "outputs": [
    {
     "name": "stdout",
     "output_type": "stream",
     "text": [
      "Nada para salvar!\n",
      "Nada para salvar!\n"
     ]
    }
   ],
   "source": [
    "# Config\n",
    "force_load = False\n",
    "force_saving = False\n",
    "\n",
    "# Adding\n",
    "if force_load or len(tfidf.documents) == 0:\n",
    "  for document_id, document in df[:2000].iterrows():\n",
    "    tfidf.add(document_id, document.text)\n",
    "\n",
    "# Saving \n",
    "tfidf.save()"
   ]
  },
  {
   "cell_type": "markdown",
   "id": "5e47c56d",
   "metadata": {},
   "source": [
    "### Simulação de pesquisa"
   ]
  },
  {
   "cell_type": "code",
   "execution_count": 5,
   "id": "f833065d",
   "metadata": {},
   "outputs": [],
   "source": [
    "def get_documents(w, all=False, top=5):\n",
    "  scores = tfidf.tfidf(w, all=all)[:top]\n",
    "  # documents = list(map(lambda x: x[1], scores))  \n",
    "  \n",
    "  for score, document_id in scores:\n",
    "    print(score, document_id, df.iloc[document_id].text)"
   ]
  },
  {
   "cell_type": "code",
   "execution_count": 10,
   "id": "59d07fe9",
   "metadata": {},
   "outputs": [
    {
     "name": "stdout",
     "output_type": "stream",
     "text": [
      "2.5497122292794088 44 Lula cobra presença de Zema em evento e ele diz que vai a Itália: \"já tenho compromisso\" https://terrabrasilnoticias.com/2023/08/lula-cobra-presenca-de-zema-em-evento-e-ele-diz-que-vai-a-italia-ja-tenho-compromisso\n",
      "2.5497122292794088 146 Chama Lula aê!🤣\n",
      "https://twitter.com/neilsonleao/status/1697243365610537370?t=j4VdrazYDwWJ_OhfpKFqbA&s=08\n",
      "2.5497122292794088 415 *Planalto aciona ‘mortadelas’ contra vaias a Lula no Dia 7 de Setembro*\n",
      "\n",
      "*#COMPARTILHE*\n",
      "\n",
      "*https://www.oantagonismo.com/2023/08/planalto-aciona-mortadelas-contra-vaias.html*\n",
      "2.5497122292794088 536 Para atender Lula, FAB pretende comprar avião luxuoso de xeiques \n",
      " \n",
      "https://www.portalcidade.news/para-atender-lula-fab-pretende-comprar-aviao-luxuoso-de-xeiques/\n",
      "2.5497122292794088 591 Para atender Lula, FAB pretende comprar avião luxuoso de xeiques \n",
      " \n",
      "https://www.portalcidade.news/para-atender-lula-fab-pretende-comprar-aviao-luxuoso-de-xeiques/\n"
     ]
    }
   ],
   "source": [
    "get_documents('lula', all=False, top=5)"
   ]
  },
  {
   "cell_type": "code",
   "execution_count": 11,
   "id": "0c1c4ac2",
   "metadata": {},
   "outputs": [
    {
     "name": "stdout",
     "output_type": "stream",
     "text": [
      "2.8010266575603144 0 URGENTE: Finalmente, uma nova possibilidade surge para reverter a inelegibilidade de Bolsonaro - https://www.jornaldacidadeonline.com.br/noticias/51272/urgente-finalmente-uma-nova-possibilidade-surge-para-reverter-a-inelegibilidade-de-bolsonaro\n",
      "2.8010266575603144 7 Zanin arquiva processo contra Bolsonaro por suposta omissão na compra da vacina ☛ https://diariodobrasilnoticias.com.br/noticia/zanin-arquiva-processo-contra-bolsonaro-por-suposta-omissao-na-compra-da-vacina-64f0e3aa0609b-1693508522\n",
      "2.8010266575603144 86 Ministro Zanin arquiva processo contra Bolsonaro por omissão na compra de vacina\n",
      "\n",
      "#PortalPacujáNews \n",
      "\n",
      "https://www.facebook.com/100057592084410/posts/pfbid0EzReGoxUQRCbfbgRYdk5vyhiEAhx4zA9H8f1VqeFjK9pH1PxLZJeimpnhnLZuVVul/?mibextid=Nif5oz\n",
      "2.8010266575603144 106 COMO VOCÊ AVALIA O GOVERNO DO PRESIDENTE JAIR BOLSONARO? \n",
      " \n",
      "Clique no link abaixo: \n",
      " \n",
      "https://www.youtube.com/[USER]-atm/community\n",
      "2.8010266575603144 107 COMO VOCÊ AVALIA O GOVERNO DO PRESIDENTE JAIR BOLSONARO? \n",
      " \n",
      "Clique no link abaixo: \n",
      " \n",
      "https://www.youtube.com/[USER]-atm/community\n"
     ]
    }
   ],
   "source": [
    "get_documents('bolsonaro', all=False, top=5)"
   ]
  },
  {
   "cell_type": "markdown",
   "id": "2c9b1e66",
   "metadata": {},
   "source": [
    "### Qualidade da pesquisa"
   ]
  },
  {
   "cell_type": "markdown",
   "id": "d4e33d61",
   "metadata": {},
   "source": [
    "Sim, é absolutamente possível e altamente recomendável avaliar a qualidade do seu sistema de busca baseado em TF-IDF usando as métricas de Precisão, Revocação, Precisão R e Medida-F (ou Medida-E, como você mencionou, que é um caso específico da Medida-F). Essas métricas são fundamentais para entender o desempenho do seu sistema em relação à relevância dos resultados retornados.\n",
    "\n",
    "Conceitos Importantes:\n",
    "\n",
    "Antes de entrarmos nas fórmulas, é crucial definir alguns conceitos:\n",
    "\n",
    "Documentos Relevantes: São os documentos que realmente correspondem à consulta do usuário, segundo um julgamento humano (ou um ground truth, um conjunto de dados de referência).\n",
    "Documentos Recuperados: São os documentos que o seu sistema de busca (TF-IDF, no seu caso) retornou como resultado da consulta.\n",
    "Com esses conceitos em mente, podemos definir as métricas:\n",
    "\n",
    "1. Precisão (Precision):\n",
    "\n",
    "A precisão mede a proporção de documentos recuperados que são relevantes. Em outras palavras, de todos os documentos que o seu sistema retornou, quantos deles eram realmente relevantes para a busca?\n",
    "\n",
    "Precisão = (Número de documentos recuperados e relevantes) / (Número total de documentos recuperados)\n",
    "Exemplo:\n",
    "\n",
    "Se o seu sistema retornou 10 documentos para uma busca e, desses 10, apenas 6 eram realmente relevantes, a precisão seria:\n",
    "\n",
    "Precisão = 6 / 10 = 0.6 ou 60%\n",
    "2. Revocação (Recall):\n",
    "\n",
    "A revocação mede a proporção de documentos relevantes que foram recuperados. Ou seja, de todos os documentos que deveriam ter sido retornados para a busca, quantos o seu sistema realmente encontrou?\n",
    "\n",
    "Revocação = (Número de documentos recuperados e relevantes) / (Número total de documentos relevantes)\n",
    "Exemplo:\n",
    "\n",
    "Se existiam 8 documentos relevantes para uma busca em todo o seu corpus e o seu sistema recuperou 6 desses 8, a revocação seria:\n",
    "\n",
    "Revocação = 6 / 8 = 0.75 ou 75%\n",
    "3. Precisão-R (R-Precision):\n",
    "\n",
    "A Precisão-R é a precisão calculada considerando apenas os R primeiros documentos retornados pelo sistema, onde R é o número total de documentos relevantes para a consulta. Ela busca avaliar a precisão nos primeiros resultados, que são geralmente os mais importantes para o usuário.\n",
    "\n",
    "Exemplo:\n",
    "\n",
    "Se existem 5 documentos relevantes para uma consulta e o seu sistema retorna 10 documentos, a Precisão-R seria a precisão calculada considerando apenas os 5 primeiros documentos retornados. Se, desses 5, 3 fossem relevantes, a Precisão-R seria:\n",
    "\n",
    "Precisão-R = 3 / 5 = 0.6 ou 60%\n",
    "4. Medida-F (F-Measure ou F1-Score):\n",
    "\n",
    "A Medida-F é uma média harmônica entre a precisão e a revocação. Ela busca um equilíbrio entre as duas métricas. A fórmula geral da Medida-F é:\n",
    "\n",
    "Medida-F = (2 * Precisão * Revocação) / (Precisão + Revocação)\n",
    "Exemplo:\n",
    "\n",
    "Usando os valores dos exemplos anteriores (Precisão = 0.6 e Revocação = 0.75):\n",
    "\n",
    "Medida-F = (2 * 0.6 * 0.75) / (0.6 + 0.75) = 0.9 / 1.35 ≈ 0.67 ou 67%\n",
    "Medida-E (E-Measure):\n",
    "\n",
    "A Medida-E é uma generalização da Medida-F que permite ponderar a importância da precisão e da revocação usando um parâmetro β (beta). A fórmula é:\n",
    "\n",
    "Medida-E = 1 / ( (1 - β²) / Precisão + β² / Revocação )\n",
    "Quando β = 1, a Medida-E é igual à Medida-F. Valores de β > 1 dão mais peso à revocação, enquanto valores de β < 1 dão mais peso à precisão.\n",
    "\n",
    "Como aplicar essas métricas ao seu script TF-IDF:\n",
    "\n",
    "Crie um conjunto de dados de teste: Você precisa de um conjunto de consultas de exemplo e, para cada consulta, uma lista dos documentos relevantes (definidos manualmente ou usando um ground truth).\n",
    "Execute as consultas no seu sistema TF-IDF: Para cada consulta do seu conjunto de teste, execute a busca usando o seu script TF-IDF e obtenha a lista de documentos recuperados.\n",
    "Calcule as métricas: Para cada consulta, compare os documentos recuperados com os documentos relevantes e calcule a Precisão, Revocação, Precisão-R e Medida-F.\n",
    "Averigue os resultados: Calcule a média das métricas para todas as consultas do seu conjunto de teste para ter uma avaliação geral do desempenho do seu sistema.\n",
    "Exemplo Prático (Conceitual):\n",
    "\n",
    "Suponha que você tenha as seguintes informações para uma consulta \"gatos pretos\":\n",
    "\n",
    "Documentos relevantes: {Doc1, Doc3, Doc5} (3 documentos)\n",
    "Documentos recuperados pelo seu sistema: {Doc1, Doc2, Doc3, Doc6} (4 documentos)\n",
    "Cálculos:\n",
    "\n",
    "Documentos recuperados e relevantes: {Doc1, Doc3} (2 documentos)\n",
    "Precisão = 2 / 4 = 0.5 ou 50%\n",
    "Revocação = 2 / 3 ≈ 0.67 ou 67%\n",
    "Precisão-R (R=3) = 2/3 ≈ 0.67 ou 67% (considerando os 3 primeiros documentos retornados)\n",
    "Medida-F = (2 * 0.5 * 0.67) / (0.5 + 0.67) ≈ 0.57 ou 57%\n",
    "Implementação em Python (Exemplo com dados fictícios):\n",
    "\n",
    "Para uma implementação real, você precisaria de um conjunto de dados de teste maior e possivelmente usar bibliotecas como scikit-learn para auxiliar no cálculo do TF-IDF, mas o conceito é o mesmo.\n",
    "\n",
    "Ao calcular e analisar essas métricas, você poderá entender melhor os pontos fortes e fracos do seu sistema de busca TF-IDF e fazer os ajustes necessários para melhorar sua qualidade. Lembre-se que um bom sistema de busca busca um equilíbrio entre precisão e revocação, e a Medida-F ajuda a avaliar esse equilíbrio."
   ]
  }
 ],
 "metadata": {
  "kernelspec": {
   "display_name": ".venv",
   "language": "python",
   "name": "python3"
  },
  "language_info": {
   "codemirror_mode": {
    "name": "ipython",
    "version": 3
   },
   "file_extension": ".py",
   "mimetype": "text/x-python",
   "name": "python",
   "nbconvert_exporter": "python",
   "pygments_lexer": "ipython3",
   "version": "3.10.16"
  }
 },
 "nbformat": 4,
 "nbformat_minor": 5
}
