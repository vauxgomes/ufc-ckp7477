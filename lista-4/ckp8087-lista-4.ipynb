{
 "cells": [
  {
   "cell_type": "markdown",
   "id": "8f845055-aa8e-4144-a384-11b7cc873a4a",
   "metadata": {},
   "source": [
    "# CKP8087 - Estrutura de Dados\n",
    "<img  src=\"https://img.shields.io/badge/UFC_CKP8087-VAUX GOMES-000000?style=for-the-badge&logo=data:image/png;base64,iVBORw0KGgoAAAANSUhEUgAAAAsAAAAOCAYAAAD5YeaVAAAABHNCSVQICAgIfAhkiAAAAAlwSFlzAAAANgAAADYBsVpjYQAAABl0RVh0U29mdHdhcmUAd3d3Lmlua3NjYXBlLm9yZ5vuPBoAAAENSURBVCiRbdFBS9QBEAXw36y7Wq6IgUSGsixhJBpiRBB08XN7ETyIFyPYui2KBXsQTUphsbbx4Cz8E+cyw8ybN/NmQsMy8xO+YRkdXGA9Ig6g3QC+r/Ad/lS8hp9TTKtBvFB+Dt2qZXNyuxEnNnCORUQ1Xj8G/lX7trAfEVeZOYu3j63xDG8wg35mdiPiFpf/gTNzocZ+xQgv8KGYp3WRmTtYxQBPiv0Wh5W/wjaG7WI8K1HThlPsYowevmO+hZe4wfOImJTIV5jgafl/WInM3MBmMY5xXP41ltx/cgaDKAF999/q1L0/Yq9ygc8RMWxBRJzgN7bwF8PS0MNpRAwf3nlUAo/qdAf4gh9TwB2yEFM5Ddb+rgAAAABJRU5ErkJggg==\" /> <img src=\"https://img.shields.io/badge/Jupyter-000000?style=for-the-badge&logo=jupyter&logoColor=white\" /> <img src=\"https://img.shields.io/badge/Python-000000?style=for-the-badge&logo=python&logoColor=white\" /> "
   ]
  },
  {
   "cell_type": "markdown",
   "id": "472fb699",
   "metadata": {},
   "source": [
    "#### Bibliotecas principais"
   ]
  },
  {
   "cell_type": "code",
   "execution_count": 55,
   "id": "e4908a70",
   "metadata": {},
   "outputs": [
    {
     "data": {
      "text/plain": [
       "'3.4.2'"
      ]
     },
     "execution_count": 55,
     "metadata": {},
     "output_type": "execute_result"
    }
   ],
   "source": [
    "import json\n",
    "import itertools\n",
    "\n",
    "import networkx as nx\n",
    "nx.__version__\n"
   ]
  },
  {
   "cell_type": "markdown",
   "id": "68fe0112",
   "metadata": {},
   "source": [
    "## Community Detection"
   ]
  },
  {
   "cell_type": "code",
   "execution_count": 71,
   "id": "c1d970b3",
   "metadata": {},
   "outputs": [],
   "source": [
    "class CommunityDetection:\n",
    "  '''\n",
    "    Algoritmos utilizados:\n",
    "    \n",
    "    - Girvan-Newman \n",
    "    - Edge Betweenness Partition \n",
    "    - Edge Current Flow Betweenness Partition \n",
    "    - K-clique Communities \n",
    "    - Greedy Modularity Communities \n",
    "    - Naïve Greedy Modularity Communities \n",
    "    - 🚫 Lukes Partitioning\n",
    "    - Label Propagation Communities \n",
    "    - Fast Label Propagation Communities \n",
    "    - Louvain Communities \n",
    "    - Asynchronous Fluid Communities \n",
    "  '''\n",
    "  def __init__(self, graph):\n",
    "    self.graph = graph\n",
    "  \n",
    "  # ------------ COMMUNITIES ------------ \n",
    "  \n",
    "  # Girvan-Newman \n",
    "  def girvan_newman(self):\n",
    "    ''' Finds communities in a graph using the Girvan–Newman method '''\n",
    "    return nx.community.girvan_newman(self.graph)\n",
    "\n",
    "  # K-clique Communities\n",
    "  def k_clique(self, k=4):\n",
    "    ''' Find k-clique communities in graph using the percolation method. '''\n",
    "    return list(nx.community.k_clique_communities(self.graph, k=k))\n",
    "\n",
    "  # Greedy Modularity Communities \n",
    "  def greedy_modularity_communities(self):\n",
    "    ''' Find communities in G using greedy modularity maximization '''\n",
    "    return nx.community.greedy_modularity_communities(self.graph)\n",
    "  \n",
    "  # Naïve Greedy Modularity Communities \n",
    "  def naive_greedy_modularity_communities(self, resolution=1):\n",
    "    ''' Find communities in G using greedy modularity maximization. '''\n",
    "    return nx.community.naive_greedy_modularity_communities(self.graph, resolution=resolution)\n",
    "  \n",
    "  # Label Propagation Communities \n",
    "  def label_propagation(self):\n",
    "    ''' Generates community sets determined by label propagation '''\n",
    "    return list(nx.community.label_propagation_communities(self.graph))\n",
    "  \n",
    "  # Fast Label Propagation Communities \n",
    "  def fast_label_propagation_communities(self):\n",
    "    ''' Returns communities in G as detected by fast label propagation. '''\n",
    "    return list(nx.community.fast_label_propagation_communities(self.graph, seed=42))\n",
    "  \n",
    "  # Asynchronous Fluid Communities \n",
    "  def async_fluid_communities(self, k=4):\n",
    "    ''' Returns communities in G as detected by Fluid Communities algorithm. '''\n",
    "    try:\n",
    "      return nx.community.asyn_fluidc(self.graph, k=k, seed=42)\n",
    "    except nx.NetworkXError:\n",
    "      print('Erro: Verifique se seu grafo é conectado')\n",
    "      return None\n",
    "    \n",
    "  # ------------ PARTITIONS ------------ \n",
    "    \n",
    "  # Edge Betweenness Partition \n",
    "  def edge_betweenness_partition(self, number_of_sets=2):\n",
    "    ''' Partition created by iteratively removing the highest edge betweenness edge. '''\n",
    "    return nx.community.edge_betweenness_partition(self.graph, number_of_sets=number_of_sets)\n",
    "    \n",
    "  # Edge Current Flow Betweenness Partition\n",
    "  def edge_current_flow_betweenness_partition(self, number_of_sets=2):\n",
    "    ''' Partition created by removing the highest edge current flow betweenness edge. '''\n",
    "    return nx.community.edge_current_flow_betweenness_partition(self.graph, number_of_sets=number_of_sets)\n",
    "\n",
    "  # Louvain Communities \n",
    "  def louvain_communities(self):\n",
    "    ''' Find the best partition of a graph using the Louvain Community Detection Algorithm. '''\n",
    "    return nx.community.louvain_communities(self.graph)\n",
    "    \n",
    "    "
   ]
  },
  {
   "cell_type": "markdown",
   "id": "8a96abe6",
   "metadata": {},
   "source": [
    "#### Loading"
   ]
  },
  {
   "cell_type": "code",
   "execution_count": 32,
   "id": "d1292f28",
   "metadata": {},
   "outputs": [],
   "source": [
    "# Carregando os diferentes gráficos\n",
    "# geral =          CommunityDetection(nx.read_graphml('./files/graphs/geral.graphml'))\n",
    "# viral =          CommunityDetection(nx.read_graphml('./files/graphs/viral.graphml'))\n",
    "misinformation = CommunityDetection(nx.read_graphml('./files/graphs/misinformation.graphml'))"
   ]
  },
  {
   "cell_type": "code",
   "execution_count": 109,
   "id": "b896dbae",
   "metadata": {},
   "outputs": [],
   "source": [
    "girvan_newman = detect.girvan_newman()\n",
    "k_clique = detect.k_clique(k=4)\n",
    "greedy_modularity_communities = detect.greedy_modularity_communities()\n",
    "naive_greedy_modularity_communities = detect.naive_greedy_modularity_communities(resolution=1)\n",
    "label_propagation = detect.label_propagation()\n",
    "fast_label_propagation = detect.fast_label_propagation_communities()\n",
    "async_fluid_communities = detect.async_fluid_communities(k=4)\n",
    "\n",
    "edge_betweenness_partition = detect.edge_betweenness_partition(number_of_sets=2)\n",
    "edge_current_flow_betweenness_partition = detect.edge_current_flow_betweenness_partition(number_of_sets=2)\n",
    "louvain_communities = detect.louvain_communities()"
   ]
  },
  {
   "cell_type": "code",
   "execution_count": 72,
   "id": "4890cf71",
   "metadata": {},
   "outputs": [],
   "source": [
    "detect = CommunityDetection(nx.barbell_graph(3, 0))\n",
    "# detect.experiment(save=\"example\")"
   ]
  },
  {
   "cell_type": "code",
   "execution_count": 101,
   "id": "56f62d0a",
   "metadata": {},
   "outputs": [
    {
     "data": {
      "text/plain": [
       "0.35714285714285715"
      ]
     },
     "execution_count": 101,
     "metadata": {},
     "output_type": "execute_result"
    }
   ],
   "source": [
    "# Girvan\n",
    "part = next(girvan_newman)\n",
    "nx.community.modularity(detect.graph, part)"
   ]
  },
  {
   "cell_type": "code",
   "execution_count": 112,
   "id": "5b4a6f65",
   "metadata": {},
   "outputs": [],
   "source": [
    "# K_click\n",
    "if len(k_clique) > 0:\n",
    "  nx.community.modularity(detect.graph, k_clique)"
   ]
  }
 ],
 "metadata": {
  "kernelspec": {
   "display_name": ".venv",
   "language": "python",
   "name": "python3"
  },
  "language_info": {
   "codemirror_mode": {
    "name": "ipython",
    "version": 3
   },
   "file_extension": ".py",
   "mimetype": "text/x-python",
   "name": "python",
   "nbconvert_exporter": "python",
   "pygments_lexer": "ipython3",
   "version": "3.10.16"
  }
 },
 "nbformat": 4,
 "nbformat_minor": 5
}
