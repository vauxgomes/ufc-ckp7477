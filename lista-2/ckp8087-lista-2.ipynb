{
 "cells": [
  {
   "cell_type": "markdown",
   "id": "8f845055-aa8e-4144-a384-11b7cc873a4a",
   "metadata": {},
   "source": [
    "# CKP8087 - Estrutura de Dados\n",
    "<img  src=\"https://img.shields.io/badge/UFC_CKP8087-VAUX GOMES-000000?style=for-the-badge&logo=data:image/png;base64,iVBORw0KGgoAAAANSUhEUgAAAAsAAAAOCAYAAAD5YeaVAAAABHNCSVQICAgIfAhkiAAAAAlwSFlzAAAANgAAADYBsVpjYQAAABl0RVh0U29mdHdhcmUAd3d3Lmlua3NjYXBlLm9yZ5vuPBoAAAENSURBVCiRbdFBS9QBEAXw36y7Wq6IgUSGsixhJBpiRBB08XN7ETyIFyPYui2KBXsQTUphsbbx4Cz8E+cyw8ybN/NmQsMy8xO+YRkdXGA9Ig6g3QC+r/Ad/lS8hp9TTKtBvFB+Dt2qZXNyuxEnNnCORUQ1Xj8G/lX7trAfEVeZOYu3j63xDG8wg35mdiPiFpf/gTNzocZ+xQgv8KGYp3WRmTtYxQBPiv0Wh5W/wjaG7WI8K1HThlPsYowevmO+hZe4wfOImJTIV5jgafl/WInM3MBmMY5xXP41ltx/cgaDKAF999/q1L0/Yq9ygc8RMWxBRJzgN7bwF8PS0MNpRAwf3nlUAo/qdAf4gh9TwB2yEFM5Ddb+rgAAAABJRU5ErkJggg==\" /> <img src=\"https://img.shields.io/badge/Jupyter-000000?style=for-the-badge&logo=jupyter&logoColor=white\" /> <img src=\"https://img.shields.io/badge/Python-000000?style=for-the-badge&logo=python&logoColor=white\" /> "
   ]
  },
  {
   "cell_type": "markdown",
   "id": "5a35c9a8-8c17-44c2-af2c-13b3dd0ee8be",
   "metadata": {},
   "source": [
    "### Bibliotecas principais"
   ]
  },
  {
   "cell_type": "code",
   "execution_count": 1,
   "id": "17f8dd50-b187-45ed-8f04-479619935a27",
   "metadata": {},
   "outputs": [],
   "source": [
    "import pandas as pd\n",
    "import networkx as nx\n",
    "from matplotlib import pyplot as plt"
   ]
  },
  {
   "cell_type": "markdown",
   "id": "87f4c074-87db-4613-9e74-f2bb205c3063",
   "metadata": {},
   "source": [
    "### Loading"
   ]
  },
  {
   "cell_type": "code",
   "execution_count": 2,
   "id": "fbbeee7f-29ad-4b58-8e26-1cfd641416c7",
   "metadata": {},
   "outputs": [
    {
     "data": {
      "text/plain": [
       "(186316, 7)"
      ]
     },
     "execution_count": 2,
     "metadata": {},
     "output_type": "execute_result"
    }
   ],
   "source": [
    "df = pd.read_csv('./files/dados.csv')\n",
    "df.rename(columns={'score_sentiment': 'sentiment', 'score_misinformation': 'misinformation'}, inplace=True)\n",
    "\n",
    "# df['bold'] = df.text.str.match(r'\\*\\*(.*?)\\*\\*').astype(bool)\n",
    "# df['italic'] = df.text.str.match(r'_\\*(.*?)\\*_').astype(bool)\n",
    "\n",
    "# Flag de viral\n",
    "counts = df['text'].value_counts()\n",
    "df['isviral'] = df['text'].isin(counts[counts > 1].index)\n",
    "\n",
    "# Flaf de misinformation\n",
    "df['ismisinformation'] = df.misinformation >= 0.7\n",
    "\n",
    "df.shape"
   ]
  },
  {
   "cell_type": "code",
   "execution_count": 4,
   "id": "3e5e4a1c",
   "metadata": {},
   "outputs": [
    {
     "data": {
      "text/html": [
       "<div>\n",
       "<style scoped>\n",
       "    .dataframe tbody tr th:only-of-type {\n",
       "        vertical-align: middle;\n",
       "    }\n",
       "\n",
       "    .dataframe tbody tr th {\n",
       "        vertical-align: top;\n",
       "    }\n",
       "\n",
       "    .dataframe thead th {\n",
       "        text-align: right;\n",
       "    }\n",
       "</style>\n",
       "<table border=\"1\" class=\"dataframe\">\n",
       "  <thead>\n",
       "    <tr style=\"text-align: right;\">\n",
       "      <th></th>\n",
       "      <th>member</th>\n",
       "      <th>group</th>\n",
       "      <th>text</th>\n",
       "      <th>sentiment</th>\n",
       "      <th>misinformation</th>\n",
       "      <th>isviral</th>\n",
       "      <th>ismisinformation</th>\n",
       "    </tr>\n",
       "  </thead>\n",
       "  <tbody>\n",
       "    <tr>\n",
       "      <th>0</th>\n",
       "      <td>3a8e41b9e1da548ef0acd0a57b398da4</td>\n",
       "      <td>e110071613239754d38878f7e046e95b</td>\n",
       "      <td>Jovem vai a sessão parlamentar na câmara dos v...</td>\n",
       "      <td>0.6371</td>\n",
       "      <td>0.001867</td>\n",
       "      <td>True</td>\n",
       "      <td>False</td>\n",
       "    </tr>\n",
       "    <tr>\n",
       "      <th>1</th>\n",
       "      <td>3a8e41b9e1da548ef0acd0a57b398da4</td>\n",
       "      <td>7ee4235534ec624ebd61373b87ad8c20</td>\n",
       "      <td>Jovem vai a sessão parlamentar na câmara dos v...</td>\n",
       "      <td>0.6371</td>\n",
       "      <td>0.001867</td>\n",
       "      <td>True</td>\n",
       "      <td>False</td>\n",
       "    </tr>\n",
       "    <tr>\n",
       "      <th>2</th>\n",
       "      <td>3a8e41b9e1da548ef0acd0a57b398da4</td>\n",
       "      <td>ee85f63c945ffa50ba8bb57acf2c1bf9</td>\n",
       "      <td>Jovem vai a sessão parlamentar na câmara dos v...</td>\n",
       "      <td>0.6371</td>\n",
       "      <td>0.001867</td>\n",
       "      <td>True</td>\n",
       "      <td>False</td>\n",
       "    </tr>\n",
       "    <tr>\n",
       "      <th>3</th>\n",
       "      <td>ef496106907ece8b169c6219e5470b2c</td>\n",
       "      <td>4450dfcd32cb7582037943ca7c682e2d</td>\n",
       "      <td>*Dilma merece pedido de desculpas por impeachm...</td>\n",
       "      <td>0.4019</td>\n",
       "      <td>NaN</td>\n",
       "      <td>True</td>\n",
       "      <td>False</td>\n",
       "    </tr>\n",
       "    <tr>\n",
       "      <th>4</th>\n",
       "      <td>4ea1b3ee637da811b7d2d0df32db21f9</td>\n",
       "      <td>3b75f897e41fca595457f2ad9e101260</td>\n",
       "      <td>*Dilma merece pedido de desculpas por impeachm...</td>\n",
       "      <td>0.4019</td>\n",
       "      <td>NaN</td>\n",
       "      <td>True</td>\n",
       "      <td>False</td>\n",
       "    </tr>\n",
       "  </tbody>\n",
       "</table>\n",
       "</div>"
      ],
      "text/plain": [
       "                             member                             group  \\\n",
       "0  3a8e41b9e1da548ef0acd0a57b398da4  e110071613239754d38878f7e046e95b   \n",
       "1  3a8e41b9e1da548ef0acd0a57b398da4  7ee4235534ec624ebd61373b87ad8c20   \n",
       "2  3a8e41b9e1da548ef0acd0a57b398da4  ee85f63c945ffa50ba8bb57acf2c1bf9   \n",
       "3  ef496106907ece8b169c6219e5470b2c  4450dfcd32cb7582037943ca7c682e2d   \n",
       "4  4ea1b3ee637da811b7d2d0df32db21f9  3b75f897e41fca595457f2ad9e101260   \n",
       "\n",
       "                                                text  sentiment  \\\n",
       "0  Jovem vai a sessão parlamentar na câmara dos v...     0.6371   \n",
       "1  Jovem vai a sessão parlamentar na câmara dos v...     0.6371   \n",
       "2  Jovem vai a sessão parlamentar na câmara dos v...     0.6371   \n",
       "3  *Dilma merece pedido de desculpas por impeachm...     0.4019   \n",
       "4  *Dilma merece pedido de desculpas por impeachm...     0.4019   \n",
       "\n",
       "   misinformation  isviral  ismisinformation  \n",
       "0        0.001867     True             False  \n",
       "1        0.001867     True             False  \n",
       "2        0.001867     True             False  \n",
       "3             NaN     True             False  \n",
       "4             NaN     True             False  "
      ]
     },
     "execution_count": 4,
     "metadata": {},
     "output_type": "execute_result"
    }
   ],
   "source": [
    "df.head(5)"
   ]
  },
  {
   "cell_type": "markdown",
   "id": "c63718cd-7dc6-457a-902d-e080882a6fe0",
   "metadata": {},
   "source": [
    "### Construindo a estrutura de gráfico"
   ]
  },
  {
   "cell_type": "code",
   "execution_count": 3,
   "id": "21d81edf-c1fb-4301-9d68-94493c4f95d0",
   "metadata": {},
   "outputs": [],
   "source": [
    "geral  = df[['member', 'group', 'isviral', 'ismisinformation']]\n",
    "viral = geral[geral.isviral]\n",
    "misin = geral[geral.ismisinformation]"
   ]
  },
  {
   "cell_type": "code",
   "execution_count": 4,
   "id": "443fa40a-8ccc-4e7c-8fde-a15a560c0758",
   "metadata": {
    "scrolled": true
   },
   "outputs": [],
   "source": [
    "#\n",
    "def build(df):\n",
    "    graph = {}\n",
    "    stats = {\n",
    "        'geral': df.shape[0],\n",
    "        'viral': df[df.isviral].shape[0],\n",
    "        'viral_p': df[df.isviral].shape[0]/df.shape[0],\n",
    "        'misin': df[df.ismisinformation].shape[0],\n",
    "        'misin_p': df[df.ismisinformation].shape[0]/df.shape[0],\n",
    "        'both': df[df.isviral & df.ismisinformation].shape[0],\n",
    "        'both_p': df[df.isviral & df.ismisinformation].shape[0]/df.shape[0],\n",
    "    \n",
    "        'members': df.member.unique().size,\n",
    "        'grups': df.group.unique().size\n",
    "    }\n",
    "    \n",
    "    for group in df.group.unique(): \n",
    "        members = df[df.group == group].member.value_counts()\n",
    "        \n",
    "        for _, msg in df[df.group == group].iterrows():\n",
    "            # Sender\n",
    "            s = msg.member\n",
    "\n",
    "            # Edge Types\n",
    "            isviral = msg.isviral\n",
    "            ismisinformation = msg.ismisinformation\n",
    "            isgeneral = not isviral and not ismisinformation\n",
    "\n",
    "            # Receivers\n",
    "            for r in members.keys():\n",
    "                if s == r: continue\n",
    "    \n",
    "                # Edge\n",
    "                graph[s] = graph.get(s, {})\n",
    "                graph[s][r] = graph[s].get(r, {})\n",
    "\n",
    "                # Edge counts by type\n",
    "                if isgeneral:\n",
    "                    graph[s][r]['geral'] = graph[s][r].get('geral', 0) + 1\n",
    "                else:\n",
    "                    if isviral:\n",
    "                        graph[s][r]['viral'] = graph[s][r].get('viral', 0) + 1\n",
    "                    if ismisinformation:\n",
    "                        graph[s][r]['misinformation'] = graph[s][r].get('misinformation', 0) + 1\n",
    "\n",
    "    return graph, stats"
   ]
  },
  {
   "cell_type": "code",
   "execution_count": 5,
   "id": "39418360-1af4-41b7-8930-288a4e398bc5",
   "metadata": {},
   "outputs": [
    {
     "name": "stdout",
     "output_type": "stream",
     "text": [
      "CPU times: user 21.6 s, sys: 148 ms, total: 21.7 s\n",
      "Wall time: 21.7 s\n",
      "CPU times: user 9.87 s, sys: 38 ms, total: 9.9 s\n",
      "Wall time: 9.92 s\n",
      "CPU times: user 813 ms, sys: 9.98 ms, total: 823 ms\n",
      "Wall time: 822 ms\n"
     ]
    }
   ],
   "source": [
    "%time graph_geral, stats_geral = build(geral)\n",
    "%time graph_viral, stats_viral = build(viral)\n",
    "%time graph_misin, stats_misin = build(misin)"
   ]
  },
  {
   "cell_type": "markdown",
   "id": "ba4f6336",
   "metadata": {},
   "source": [
    "#### Tabela resumo"
   ]
  },
  {
   "cell_type": "code",
   "execution_count": 8,
   "id": "d105e606",
   "metadata": {},
   "outputs": [
    {
     "data": {
      "text/html": [
       "<div>\n",
       "<style scoped>\n",
       "    .dataframe tbody tr th:only-of-type {\n",
       "        vertical-align: middle;\n",
       "    }\n",
       "\n",
       "    .dataframe tbody tr th {\n",
       "        vertical-align: top;\n",
       "    }\n",
       "\n",
       "    .dataframe thead th {\n",
       "        text-align: right;\n",
       "    }\n",
       "</style>\n",
       "<table border=\"1\" class=\"dataframe\">\n",
       "  <thead>\n",
       "    <tr style=\"text-align: right;\">\n",
       "      <th></th>\n",
       "      <th>geral</th>\n",
       "      <th>viral</th>\n",
       "      <th>viral_p</th>\n",
       "      <th>misin</th>\n",
       "      <th>misin_p</th>\n",
       "      <th>both</th>\n",
       "      <th>both_p</th>\n",
       "      <th>members</th>\n",
       "      <th>grups</th>\n",
       "      <th>type</th>\n",
       "    </tr>\n",
       "  </thead>\n",
       "  <tbody>\n",
       "    <tr>\n",
       "      <th>0</th>\n",
       "      <td>186316</td>\n",
       "      <td>110091</td>\n",
       "      <td>0.590883</td>\n",
       "      <td>8749</td>\n",
       "      <td>0.046958</td>\n",
       "      <td>5181</td>\n",
       "      <td>0.027808</td>\n",
       "      <td>6165</td>\n",
       "      <td>237</td>\n",
       "      <td>geral</td>\n",
       "    </tr>\n",
       "    <tr>\n",
       "      <th>1</th>\n",
       "      <td>110091</td>\n",
       "      <td>110091</td>\n",
       "      <td>1.000000</td>\n",
       "      <td>5181</td>\n",
       "      <td>0.047061</td>\n",
       "      <td>5181</td>\n",
       "      <td>0.047061</td>\n",
       "      <td>3487</td>\n",
       "      <td>225</td>\n",
       "      <td>viral</td>\n",
       "    </tr>\n",
       "    <tr>\n",
       "      <th>2</th>\n",
       "      <td>8749</td>\n",
       "      <td>5181</td>\n",
       "      <td>0.592182</td>\n",
       "      <td>8749</td>\n",
       "      <td>1.000000</td>\n",
       "      <td>5181</td>\n",
       "      <td>0.592182</td>\n",
       "      <td>1647</td>\n",
       "      <td>175</td>\n",
       "      <td>misin</td>\n",
       "    </tr>\n",
       "  </tbody>\n",
       "</table>\n",
       "</div>"
      ],
      "text/plain": [
       "    geral   viral   viral_p  misin   misin_p  both    both_p  members  grups  \\\n",
       "0  186316  110091  0.590883   8749  0.046958  5181  0.027808     6165    237   \n",
       "1  110091  110091  1.000000   5181  0.047061  5181  0.047061     3487    225   \n",
       "2    8749    5181  0.592182   8749  1.000000  5181  0.592182     1647    175   \n",
       "\n",
       "    type  \n",
       "0  geral  \n",
       "1  viral  \n",
       "2  misin  "
      ]
     },
     "execution_count": 8,
     "metadata": {},
     "output_type": "execute_result"
    }
   ],
   "source": [
    "stats_geral['type'] = 'geral'\n",
    "stats_viral['type'] = 'viral'\n",
    "stats_misin['type'] = 'misin'\n",
    "\n",
    "pd.DataFrame.from_dict([stats_geral, stats_viral, stats_misin])"
   ]
  },
  {
   "cell_type": "markdown",
   "id": "350e800c-6318-42b9-8d8b-641a248f1074",
   "metadata": {},
   "source": [
    "## Parte I - NetworkX\n",
    "\n",
    "https://networkx.org/\n",
    "\n",
    "### Funções de montagem e métricas não presentes na biblioteca"
   ]
  },
  {
   "cell_type": "code",
   "execution_count": 6,
   "id": "53356a2f-f586-4f1d-9a9f-9e2c7b0d6a6f",
   "metadata": {},
   "outputs": [],
   "source": [
    "# Função de montagem do grafo\n",
    "def networkX(graph):\n",
    "    G = nx.DiGraph()\n",
    "    \n",
    "    for s in graph:\n",
    "        for r in graph[s]:\n",
    "            if 'geral' in graph[s][r] and graph[s][r]['geral'] > 0:\n",
    "              G.add_edge(s, r, weight=graph[s][r]['geral'], type=\"geral\", color='#0077b6')\n",
    "            if 'viral' in graph[s][r] and graph[s][r]['viral'] > 0:\n",
    "              G.add_edge(s, r, weight=graph[s][r]['viral'], type=\"viral\", color='#ff8fab')\n",
    "            if 'misinformation' in graph[s][r] and graph[s][r]['misinformation'] > 0:\n",
    "              G.add_edge(s, r, weight=graph[s][r]['misinformation'], type=\"misinformation\", color='#fca311')\n",
    "\n",
    "    return G\n",
    "\n",
    "# Cálculo da força\n",
    "def force(G):\n",
    "  forces = {}\n",
    "\n",
    "  for source, target, stats in list(G.edges(data=True)):\n",
    "    forces[source] = forces.get(source, 0) + stats['weight']\n",
    "\n",
    "  return forces\n",
    "\n",
    "# Come to the force\n",
    "nx.force = force\n",
    "\n",
    "# Giant coefficient\n",
    "def giant_coefficient(G):\n",
    "    giant = G.subgraph(max(nx.connected_components(G), key=len))\n",
    "    return len(giant.nodes)/len(G.nodes)\n",
    "\n",
    "#\n",
    "nx.giant_coefficient = giant_coefficient"
   ]
  },
  {
   "cell_type": "code",
   "execution_count": 7,
   "id": "c35f4509",
   "metadata": {},
   "outputs": [
    {
     "name": "stdout",
     "output_type": "stream",
     "text": [
      "CPU times: user 1.63 s, sys: 155 ms, total: 1.78 s\n",
      "Wall time: 1.78 s\n",
      "CPU times: user 400 ms, sys: 38 ms, total: 438 ms\n",
      "Wall time: 438 ms\n",
      "CPU times: user 120 ms, sys: 10 ms, total: 130 ms\n",
      "Wall time: 130 ms\n"
     ]
    }
   ],
   "source": [
    "# Montando os grafos\n",
    "%time gg = networkX(graph_geral)\n",
    "%time gv = networkX(graph_viral)\n",
    "%time gm = networkX(graph_misin)"
   ]
  },
  {
   "cell_type": "markdown",
   "id": "330ba07d",
   "metadata": {},
   "source": [
    "### Métricas dos Nós\n",
    "\n",
    "| Métrica | Suporte |\n",
    "| -- | -- |\n",
    "|Degree centrality| `nativo` |\n",
    "|Clustering coefficient| `nativo` |\n",
    "|Closeness centrality| `nativo` |\n",
    "|Betweennes centrality| `nativo` |\n",
    "|Force| `desenvolvido` |"
   ]
  },
  {
   "cell_type": "code",
   "execution_count": 11,
   "id": "292d3f03",
   "metadata": {},
   "outputs": [],
   "source": [
    "# Geral\n",
    "g_centrality =  pd.DataFrame.from_dict([nx.degree_centrality(gg)]).T.rename(columns={0: 'centrality_g'})\n",
    "g_force =       pd.DataFrame.from_dict([nx.force(gg)]).T.rename(columns={0: 'force_g'})\n",
    "g_clustering =  pd.DataFrame.from_dict([nx.clustering(gg)]).T.rename(columns={0: 'clustering_g'})\n",
    "g_closeness =   pd.DataFrame.from_dict([nx.closeness_centrality(gg)]).T.rename(columns={0: 'closeness_g'})\n",
    "g_betweenness = pd.DataFrame.from_dict([nx.betweenness_centrality(gg)]).T.rename(columns={0: 'betweenness_g'})\n",
    "#\n",
    "gg_ = pd.concat([g_centrality, g_force, g_clustering, g_closeness, g_betweenness], axis=1)"
   ]
  },
  {
   "cell_type": "code",
   "execution_count": 12,
   "id": "347c06bb",
   "metadata": {},
   "outputs": [],
   "source": [
    "# Viral\n",
    "v_centrality =  pd.DataFrame.from_dict([nx.degree_centrality(gv)]).T.rename(columns={0: 'centrality_v'})\n",
    "v_force =       pd.DataFrame.from_dict([nx.force(gv)]).T.rename(columns={0: 'force_v'})\n",
    "v_clustering =  pd.DataFrame.from_dict([nx.clustering(gv)]).T.rename(columns={0: 'clustering_v'})\n",
    "v_closeness =   pd.DataFrame.from_dict([nx.closeness_centrality(gv)]).T.rename(columns={0: 'closeness_v'})\n",
    "v_betweenness = pd.DataFrame.from_dict([nx.betweenness_centrality(gv)]).T.rename(columns={0: 'betweenness_v'})\n",
    "#\n",
    "gv_ = pd.concat([v_centrality, v_force, v_clustering, v_closeness, v_betweenness], axis=1)"
   ]
  },
  {
   "cell_type": "code",
   "execution_count": 13,
   "id": "6eea8a54",
   "metadata": {},
   "outputs": [],
   "source": [
    "\n",
    "# Misinformation\n",
    "m_centrality =  pd.DataFrame.from_dict([nx.degree_centrality(gm)]).T.rename(columns={0: 'centrality_m'})\n",
    "m_force =       pd.DataFrame.from_dict([nx.force(gm)]).T.rename(columns={0: 'force_m'})\n",
    "m_clustering =  pd.DataFrame.from_dict([nx.clustering(gm)]).T.rename(columns={0: 'clustering_m'})\n",
    "m_closeness =   pd.DataFrame.from_dict([nx.closeness_centrality(gm)]).T.rename(columns={0: 'closeness_m'})\n",
    "m_betweenness = pd.DataFrame.from_dict([nx.betweenness_centrality(gm)]).T.rename(columns={0: 'betweenness_m'})\n",
    "#\n",
    "gm_ = pd.concat([m_centrality, m_force, m_clustering, m_closeness, m_betweenness], axis=1)"
   ]
  },
  {
   "cell_type": "code",
   "execution_count": 14,
   "id": "a2bbfc9b",
   "metadata": {},
   "outputs": [
    {
     "data": {
      "text/html": [
       "<div>\n",
       "<style scoped>\n",
       "    .dataframe tbody tr th:only-of-type {\n",
       "        vertical-align: middle;\n",
       "    }\n",
       "\n",
       "    .dataframe tbody tr th {\n",
       "        vertical-align: top;\n",
       "    }\n",
       "\n",
       "    .dataframe thead th {\n",
       "        text-align: right;\n",
       "    }\n",
       "</style>\n",
       "<table border=\"1\" class=\"dataframe\">\n",
       "  <thead>\n",
       "    <tr style=\"text-align: right;\">\n",
       "      <th></th>\n",
       "      <th>centrality_g</th>\n",
       "      <th>force_g</th>\n",
       "      <th>clustering_g</th>\n",
       "      <th>closeness_g</th>\n",
       "      <th>betweenness_g</th>\n",
       "      <th>centrality_v</th>\n",
       "      <th>force_v</th>\n",
       "      <th>clustering_v</th>\n",
       "      <th>closeness_v</th>\n",
       "      <th>betweenness_v</th>\n",
       "      <th>centrality_m</th>\n",
       "      <th>force_m</th>\n",
       "      <th>clustering_m</th>\n",
       "      <th>closeness_m</th>\n",
       "      <th>betweenness_m</th>\n",
       "    </tr>\n",
       "  </thead>\n",
       "  <tbody>\n",
       "    <tr>\n",
       "      <th>3a8e41b9e1da548ef0acd0a57b398da4</th>\n",
       "      <td>0.000976</td>\n",
       "      <td>171</td>\n",
       "      <td>1.000000</td>\n",
       "      <td>0.000488</td>\n",
       "      <td>0.000000</td>\n",
       "      <td>0.001729</td>\n",
       "      <td>171.0</td>\n",
       "      <td>1.000000</td>\n",
       "      <td>0.000864</td>\n",
       "      <td>0.000000</td>\n",
       "      <td>NaN</td>\n",
       "      <td>NaN</td>\n",
       "      <td>NaN</td>\n",
       "      <td>NaN</td>\n",
       "      <td>NaN</td>\n",
       "    </tr>\n",
       "    <tr>\n",
       "      <th>df5ce4fa38568a7c3ddb881ec2bcf327</th>\n",
       "      <td>0.000976</td>\n",
       "      <td>129</td>\n",
       "      <td>1.000000</td>\n",
       "      <td>0.000488</td>\n",
       "      <td>0.000000</td>\n",
       "      <td>0.001729</td>\n",
       "      <td>129.0</td>\n",
       "      <td>1.000000</td>\n",
       "      <td>0.000864</td>\n",
       "      <td>0.000000</td>\n",
       "      <td>NaN</td>\n",
       "      <td>NaN</td>\n",
       "      <td>NaN</td>\n",
       "      <td>NaN</td>\n",
       "      <td>NaN</td>\n",
       "    </tr>\n",
       "    <tr>\n",
       "      <th>42991ff9fbd534363741ee7531beb189</th>\n",
       "      <td>0.000976</td>\n",
       "      <td>12</td>\n",
       "      <td>1.000000</td>\n",
       "      <td>0.000488</td>\n",
       "      <td>0.000000</td>\n",
       "      <td>0.001729</td>\n",
       "      <td>12.0</td>\n",
       "      <td>1.000000</td>\n",
       "      <td>0.000864</td>\n",
       "      <td>0.000000</td>\n",
       "      <td>NaN</td>\n",
       "      <td>NaN</td>\n",
       "      <td>NaN</td>\n",
       "      <td>NaN</td>\n",
       "      <td>NaN</td>\n",
       "    </tr>\n",
       "    <tr>\n",
       "      <th>88cc4f89f35493b30b96a60da7938e1c</th>\n",
       "      <td>0.000976</td>\n",
       "      <td>12</td>\n",
       "      <td>1.000000</td>\n",
       "      <td>0.000488</td>\n",
       "      <td>0.000000</td>\n",
       "      <td>0.001729</td>\n",
       "      <td>12.0</td>\n",
       "      <td>1.000000</td>\n",
       "      <td>0.000864</td>\n",
       "      <td>0.000000</td>\n",
       "      <td>NaN</td>\n",
       "      <td>NaN</td>\n",
       "      <td>NaN</td>\n",
       "      <td>NaN</td>\n",
       "      <td>NaN</td>\n",
       "    </tr>\n",
       "    <tr>\n",
       "      <th>ef496106907ece8b169c6219e5470b2c</th>\n",
       "      <td>0.003578</td>\n",
       "      <td>17887</td>\n",
       "      <td>0.672727</td>\n",
       "      <td>0.258109</td>\n",
       "      <td>0.000547</td>\n",
       "      <td>0.004610</td>\n",
       "      <td>14212.0</td>\n",
       "      <td>0.571429</td>\n",
       "      <td>0.227686</td>\n",
       "      <td>0.000854</td>\n",
       "      <td>NaN</td>\n",
       "      <td>NaN</td>\n",
       "      <td>NaN</td>\n",
       "      <td>NaN</td>\n",
       "      <td>NaN</td>\n",
       "    </tr>\n",
       "  </tbody>\n",
       "</table>\n",
       "</div>"
      ],
      "text/plain": [
       "                                  centrality_g  force_g  clustering_g  \\\n",
       "3a8e41b9e1da548ef0acd0a57b398da4      0.000976      171      1.000000   \n",
       "df5ce4fa38568a7c3ddb881ec2bcf327      0.000976      129      1.000000   \n",
       "42991ff9fbd534363741ee7531beb189      0.000976       12      1.000000   \n",
       "88cc4f89f35493b30b96a60da7938e1c      0.000976       12      1.000000   \n",
       "ef496106907ece8b169c6219e5470b2c      0.003578    17887      0.672727   \n",
       "\n",
       "                                  closeness_g  betweenness_g  centrality_v  \\\n",
       "3a8e41b9e1da548ef0acd0a57b398da4     0.000488       0.000000      0.001729   \n",
       "df5ce4fa38568a7c3ddb881ec2bcf327     0.000488       0.000000      0.001729   \n",
       "42991ff9fbd534363741ee7531beb189     0.000488       0.000000      0.001729   \n",
       "88cc4f89f35493b30b96a60da7938e1c     0.000488       0.000000      0.001729   \n",
       "ef496106907ece8b169c6219e5470b2c     0.258109       0.000547      0.004610   \n",
       "\n",
       "                                  force_v  clustering_v  closeness_v  \\\n",
       "3a8e41b9e1da548ef0acd0a57b398da4    171.0      1.000000     0.000864   \n",
       "df5ce4fa38568a7c3ddb881ec2bcf327    129.0      1.000000     0.000864   \n",
       "42991ff9fbd534363741ee7531beb189     12.0      1.000000     0.000864   \n",
       "88cc4f89f35493b30b96a60da7938e1c     12.0      1.000000     0.000864   \n",
       "ef496106907ece8b169c6219e5470b2c  14212.0      0.571429     0.227686   \n",
       "\n",
       "                                  betweenness_v  centrality_m  force_m  \\\n",
       "3a8e41b9e1da548ef0acd0a57b398da4       0.000000           NaN      NaN   \n",
       "df5ce4fa38568a7c3ddb881ec2bcf327       0.000000           NaN      NaN   \n",
       "42991ff9fbd534363741ee7531beb189       0.000000           NaN      NaN   \n",
       "88cc4f89f35493b30b96a60da7938e1c       0.000000           NaN      NaN   \n",
       "ef496106907ece8b169c6219e5470b2c       0.000854           NaN      NaN   \n",
       "\n",
       "                                  clustering_m  closeness_m  betweenness_m  \n",
       "3a8e41b9e1da548ef0acd0a57b398da4           NaN          NaN            NaN  \n",
       "df5ce4fa38568a7c3ddb881ec2bcf327           NaN          NaN            NaN  \n",
       "42991ff9fbd534363741ee7531beb189           NaN          NaN            NaN  \n",
       "88cc4f89f35493b30b96a60da7938e1c           NaN          NaN            NaN  \n",
       "ef496106907ece8b169c6219e5470b2c           NaN          NaN            NaN  "
      ]
     },
     "execution_count": 14,
     "metadata": {},
     "output_type": "execute_result"
    }
   ],
   "source": [
    "# Exibição\n",
    "pd.merge(\n",
    "  pd.merge(gg_, gv_, how='left', left_index=True, right_index=True), \n",
    "  gm_, how='left', left_index=True, right_index=True).head(5)"
   ]
  },
  {
   "cell_type": "markdown",
   "id": "f1ea1523",
   "metadata": {},
   "source": [
    "#### Top 5"
   ]
  },
  {
   "cell_type": "code",
   "execution_count": 15,
   "id": "dbee44ff",
   "metadata": {},
   "outputs": [
    {
     "name": "stdout",
     "output_type": "stream",
     "text": [
      "TOP 5\n",
      "Centrality\n",
      "-\n",
      "1: 5edf52cacaced85501ff2c59d316d696 = 0.3790\n",
      "2: 3b7dfe232868b409b22d6717df3e3851 = 0.3513\n",
      "3: db163c719d8fe5031fbd48783d6554b1 = 0.3344\n",
      "4: e6022a7e3955297a7a4c3028f0f2a99d = 0.3273\n",
      "5: b348ff97155fcbcfd7036153c89ddb68 = 0.3273\n",
      "\n",
      "Force\n",
      "-\n",
      "1: 3bc964535b8e6bae52c2d9b8fcc73024 = 417525.0000\n",
      "2: 4ea1b3ee637da811b7d2d0df32db21f9 = 206504.0000\n",
      "3: 3545bf472c131392f18ed78a07f7552e = 196845.0000\n",
      "4: ba3cffd9754e8e71c08ac9401cb1748b = 174565.0000\n",
      "5: ca9f8e50cea929448d2d058aead8ed8c = 161272.0000\n",
      "\n",
      "Clustering\n",
      "-\n",
      "1: f803a0bac47c89426bcb1f1d4e666251 = 1.0000\n",
      "2: 3a8e41b9e1da548ef0acd0a57b398da4 = 1.0000\n",
      "3: df5ce4fa38568a7c3ddb881ec2bcf327 = 1.0000\n",
      "4: 131f22bd5a2c9afa8d8f3f3d650d1cb1 = 1.0000\n",
      "5: 1d09b8c487caeeba6192f10b3c8f89db = 1.0000\n",
      "\n",
      "Closeness\n",
      "-\n",
      "1: 83d61b8555f77383e6a699dafe5cca75 = 0.3840\n",
      "2: 5edf52cacaced85501ff2c59d316d696 = 0.3837\n",
      "3: 6a8c33817fef00b8eeabe6ee5f05473d = 0.3809\n",
      "4: db163c719d8fe5031fbd48783d6554b1 = 0.3806\n",
      "5: e49bad7e3735041101fe3b2217a8c89a = 0.3773\n",
      "\n",
      "Betweenness\n",
      "-\n",
      "1: b13078dee3bc11bc63ddf84ad4b53665 = 0.1134\n",
      "2: e49bad7e3735041101fe3b2217a8c89a = 0.1039\n",
      "3: cbbc5bbe52a1f1c1ae19e97598387114 = 0.0696\n",
      "4: c00d4e066d14c58ab47fede0d24ae438 = 0.0397\n",
      "5: b8c39ec1e5b58a138955e05ba5ffb2f7 = 0.0357\n",
      "\n",
      "TOP 5\n",
      "Centrality\n",
      "-\n",
      "1: 5edf52cacaced85501ff2c59d316d696 = 0.3820\n",
      "2: e6022a7e3955297a7a4c3028f0f2a99d = 0.3636\n",
      "3: 3b7dfe232868b409b22d6717df3e3851 = 0.3440\n",
      "4: 83d61b8555f77383e6a699dafe5cca75 = 0.3284\n",
      "5: e62278ba3dfa04daedc5b63dc592f2cb = 0.2985\n",
      "\n",
      "Force\n",
      "-\n",
      "1: 3bc964535b8e6bae52c2d9b8fcc73024 = 171000.0000\n",
      "2: 4ea1b3ee637da811b7d2d0df32db21f9 = 137641.0000\n",
      "3: 3545bf472c131392f18ed78a07f7552e = 124067.0000\n",
      "4: ca9f8e50cea929448d2d058aead8ed8c = 119065.0000\n",
      "5: ba3cffd9754e8e71c08ac9401cb1748b = 99711.0000\n",
      "\n",
      "Clustering\n",
      "-\n",
      "1: 48e8eb16ed536cbfb9e4b7a37ef16b03 = 1.0000\n",
      "2: d5bb67fb25685e7a6c3829759f9803a7 = 1.0000\n",
      "3: 402566e8217839ea3049619b5a6200bc = 1.0000\n",
      "4: 6f89a059ec76310306a0064dbc9bd0f4 = 1.0000\n",
      "5: ed315c059263d1f1fd11d69cf541229e = 1.0000\n",
      "\n",
      "Closeness\n",
      "-\n",
      "1: 83d61b8555f77383e6a699dafe5cca75 = 0.3639\n",
      "2: 5edf52cacaced85501ff2c59d316d696 = 0.3591\n",
      "3: 6a8c33817fef00b8eeabe6ee5f05473d = 0.3552\n",
      "4: a8d8273cd6c38a9b0db014964c69f567 = 0.3489\n",
      "5: 636d779b3346efeaf0afa0818981f356 = 0.3488\n",
      "\n",
      "Betweenness\n",
      "-\n",
      "1: 83d61b8555f77383e6a699dafe5cca75 = 0.0442\n",
      "2: cbbc5bbe52a1f1c1ae19e97598387114 = 0.0399\n",
      "3: d4ebb29ea088695a2e33a4327c504597 = 0.0295\n",
      "4: 49f871613d81e943bc528d1b54dcc80a = 0.0288\n",
      "5: 2980863e997847c1e8be13aeadce9ae8 = 0.0287\n",
      "\n",
      "TOP 5\n",
      "Centrality\n",
      "-\n",
      "1: e6022a7e3955297a7a4c3028f0f2a99d = 0.4148\n",
      "2: 3b7dfe232868b409b22d6717df3e3851 = 0.4000\n",
      "3: 8df18722b28514d465d134a51692e054 = 0.3173\n",
      "4: e62278ba3dfa04daedc5b63dc592f2cb = 0.3173\n",
      "5: 7504287183444470e99dcc2c250cfeec = 0.3062\n",
      "\n",
      "Force\n",
      "-\n",
      "1: b632aa10c44879310730bbfced256e20 = 32864.0000\n",
      "2: c2b374a51f8bc0ff08ba7b1e64b32f88 = 16833.0000\n",
      "3: 25a66d7bda7171e617448aeb17a46f4b = 10586.0000\n",
      "4: a7cd207cf04eca0e47a157071df25118 = 9480.0000\n",
      "5: e29a9cfc0e233a1a305d1fd9f77d57e2 = 7900.0000\n",
      "\n",
      "Clustering\n",
      "-\n",
      "1: 8e18555322760e48d57466799424a36a = 1.0000\n",
      "2: c2b374a51f8bc0ff08ba7b1e64b32f88 = 1.0000\n",
      "3: 5404dbf60cfff5d6756f3a4e8718ff39 = 1.0000\n",
      "4: 17799bf237faa87fc751f2eb6d4bddf0 = 1.0000\n",
      "5: 4cbbc5d844476d3db41c340816884f27 = 1.0000\n",
      "\n",
      "Closeness\n",
      "-\n",
      "1: 3b7dfe232868b409b22d6717df3e3851 = 0.2881\n",
      "2: 178b0761a1b0363a1493c3a30e033a45 = 0.2878\n",
      "3: e6022a7e3955297a7a4c3028f0f2a99d = 0.2863\n",
      "4: 4b44334cc5e4c42d35213f08916bdcab = 0.2823\n",
      "5: 5df2534f5bcc7ede23b50a10e0915aa8 = 0.2793\n",
      "\n",
      "Betweenness\n",
      "-\n",
      "1: 178b0761a1b0363a1493c3a30e033a45 = 0.0697\n",
      "2: 36706644f7c225aac8f8e242ec4c2564 = 0.0564\n",
      "3: c00d4e066d14c58ab47fede0d24ae438 = 0.0477\n",
      "4: 4b44334cc5e4c42d35213f08916bdcab = 0.0453\n",
      "5: d37dfcfab35d5e829262be74ec42d15a = 0.0380\n",
      "\n"
     ]
    }
   ],
   "source": [
    "def top(df, t=5): \n",
    "  print(f'TOP {t}')\n",
    "  \n",
    "  for col in df.columns:\n",
    "    print(col.split('_')[0].title())\n",
    "    print('-')\n",
    "    \n",
    "    for i, el in enumerate(df[col].sort_values(ascending=False)[:t].items()):\n",
    "      member, score = el\n",
    "      print(f'{i+1}: {member} = {score:.4f}')\n",
    "    \n",
    "    print()\n",
    "    \n",
    "top(gg_)\n",
    "top(gv_)\n",
    "top(gm_)\n"
   ]
  },
  {
   "cell_type": "markdown",
   "id": "93fd86d0",
   "metadata": {},
   "source": [
    "### Métricas de Grafos\n",
    "\n",
    "| Métrica | Suporte | Observação |\n",
    "| -- | -- | -- |\n",
    "| Giant Coefficient | `desenvolvido` | |\n",
    "| Density | `nativo` | Apenas para gráfos não-direcionados |\n",
    "| Diameter | `nativo` | |\n"
   ]
  },
  {
   "cell_type": "code",
   "execution_count": 24,
   "id": "4c96c388",
   "metadata": {},
   "outputs": [
    {
     "name": "stdout",
     "output_type": "stream",
     "text": [
      "# Geral\n",
      "Giant Coefficient: 0.8416\n",
      "Density: 0.0257\n",
      "Diameter: 10.0000\n"
     ]
    }
   ],
   "source": [
    "u_gg = gg.to_undirected()\n",
    "\n",
    "#\n",
    "g_giant_coefficient = nx.giant_coefficient(u_gg)\n",
    "g_density = nx.density(u_gg)\n",
    "try: g_diameter = nx.diameter(u_gg)\n",
    "except: g_diameter = nx.diameter(u_gg.subgraph(max(nx.connected_components(u_gg), key=len)))\n",
    "\n",
    "print('# Geral')\n",
    "print(f'Giant Coefficient: {g_giant_coefficient:.4f}')\n",
    "print(f'Density: {g_density:.4f}')\n",
    "print(f'Diameter: {g_diameter:.4f}')"
   ]
  },
  {
   "cell_type": "code",
   "execution_count": 25,
   "id": "23fb077e",
   "metadata": {},
   "outputs": [
    {
     "name": "stdout",
     "output_type": "stream",
     "text": [
      "# Viral\n",
      "Giant Coefficient: 0.7414\n",
      "Density: 0.0246\n",
      "Diameter: 9.0000\n"
     ]
    }
   ],
   "source": [
    "u_gv = gv.to_undirected()\n",
    "\n",
    "#\n",
    "v_giant_coefficient = nx.giant_coefficient(u_gv)\n",
    "v_density = nx.density(u_gv)\n",
    "try: v_diameter = nx.diameter(u_gv)\n",
    "except: v_diameter = nx.diameter(u_gv.subgraph(max(nx.connected_components(u_gv), key=len)))\n",
    "\n",
    "print('# Viral')\n",
    "print(f'Giant Coefficient: {v_giant_coefficient:.4f}')\n",
    "print(f'Density: {v_density:.4f}')\n",
    "print(f'Diameter: {v_diameter:.4f}')"
   ]
  },
  {
   "cell_type": "code",
   "execution_count": 27,
   "id": "93949f30",
   "metadata": {},
   "outputs": [
    {
     "name": "stdout",
     "output_type": "stream",
     "text": [
      "# Misinformation\n",
      "Giant Coefficient: 0.6342\n",
      "Density: 0.0279\n",
      "Diameter: 10.0000\n"
     ]
    }
   ],
   "source": [
    "u_gm = gm.to_undirected()\n",
    "\n",
    "#\n",
    "m_giant_coefficient = nx.giant_coefficient(u_gm)\n",
    "m_density = nx.density(u_gm)\n",
    "try: m_diameter = nx.diameter(u_gm)\n",
    "except: m_diameter = nx.diameter(u_gm.subgraph(max(nx.connected_components(u_gm), key=len)))\n",
    "\n",
    "print('# Misinformation')\n",
    "print(f'Giant Coefficient: {m_giant_coefficient:.4f}')\n",
    "print(f'Density: {m_density:.4f}')\n",
    "print(f'Diameter: {m_diameter:.4f}')"
   ]
  },
  {
   "cell_type": "markdown",
   "id": "9c165713",
   "metadata": {},
   "source": [
    "### Análise visual\n",
    "\n",
    "> Usando a versão não-direcionada dos grafos"
   ]
  },
  {
   "cell_type": "code",
   "execution_count": 10,
   "id": "6f356355",
   "metadata": {},
   "outputs": [
    {
     "name": "stdout",
     "output_type": "stream",
     "text": [
      "CPU times: user 2min 16s, sys: 467 ms, total: 2min 17s\n",
      "Wall time: 1min 38s\n"
     ]
    },
    {
     "data": {
      "image/png": "[encoded data removed]",
      "text/plain": [
       "<Figure size 1000x1000 with 1 Axes>"
      ]
     },
     "metadata": {},
     "output_type": "display_data"
    }
   ],
   "source": [
    "plt.figure(figsize=(10, 10))\n",
    "%time nx.draw(u_gg, alpha=0.7, node_size=3, with_labels=False, pos=nx.spring_layout(u_gg))"
   ]
  },
  {
   "cell_type": "code",
   "execution_count": 11,
   "id": "437147e5",
   "metadata": {},
   "outputs": [
    {
     "name": "stdout",
     "output_type": "stream",
     "text": [
      "CPU times: user 33.9 s, sys: 141 ms, total: 34.1 s\n",
      "Wall time: 34.1 s\n"
     ]
    },
    {
     "data": {
      "image/png": "[encoded data removed]",
      "text/plain": [
       "<Figure size 1000x1000 with 1 Axes>"
      ]
     },
     "metadata": {},
     "output_type": "display_data"
    }
   ],
   "source": [
    "plt.figure(figsize=(10, 10))\n",
    "%time nx.draw(u_gv, alpha=0.7, node_size=3, with_labels=False, pos=nx.spring_layout(u_gv))"
   ]
  },
  {
   "cell_type": "code",
   "execution_count": 12,
   "id": "31d25aa4",
   "metadata": {},
   "outputs": [
    {
     "name": "stdout",
     "output_type": "stream",
     "text": [
      "CPU times: user 9.15 s, sys: 10.1 ms, total: 9.16 s\n",
      "Wall time: 9.16 s\n"
     ]
    },
    {
     "data": {
      "image/png": "[encoded data removed]",
      "text/plain": [
       "<Figure size 1000x1000 with 1 Axes>"
      ]
     },
     "metadata": {},
     "output_type": "display_data"
    }
   ],
   "source": [
    "plt.figure(figsize=(10, 10))\n",
    "%time nx.draw(u_gm, alpha=0.7, node_size=3, with_labels=False, pos=nx.spring_layout(u_gm))"
   ]
  },
  {
   "cell_type": "markdown",
   "id": "e45ed66e",
   "metadata": {},
   "source": [
    "### Export"
   ]
  },
  {
   "cell_type": "code",
   "execution_count": null,
   "id": "357a7330-fa58-4a3a-894c-12be7fbb3c80",
   "metadata": {},
   "outputs": [],
   "source": [
    "# Gephi\n",
    "nx.write_graphml(gg, './files/gephi/gg.graphml') \n",
    "nx.write_graphml(gv, './files/gephi/gv.graphml') \n",
    "nx.write_graphml(gm, './files/gephi/gm.graphml') "
   ]
  },
  {
   "cell_type": "code",
   "execution_count": null,
   "id": "7beed263",
   "metadata": {},
   "outputs": [],
   "source": [
    "\n",
    "# Pajek\n",
    "nx.write_pajek(gg, './files/pajek/gg.net') \n",
    "nx.write_pajek(gv, './files/pajek/gv.net') \n",
    "nx.write_pajek(gm, './files/pajek/gm.net') "
   ]
  },
  {
   "cell_type": "markdown",
   "id": "206ec84a",
   "metadata": {},
   "source": [
    "## Parte II - Gephi\n",
    "\n",
    "https://gephi.org/\n",
    "\n",
    "Layout: Yifan Hu\n",
    "Filtros:\n",
    " - Giant Component\n",
    "   - Equal:\n",
    "     - type: geral\n",
    "     - type: viral\n",
    "     - type: misinformation\n",
    "\n",
    "### Importação"
   ]
  },
  {
   "cell_type": "markdown",
   "id": "72aa0554",
   "metadata": {},
   "source": [
    "<div>\n",
    "    <image src=\"./files/gephi/gephi-1.png\" width=\"550px\"/>\n",
    "    <image src=\"./files/gephi/gephi-2.png\" width=\"550px\"/>\n",
    "    <image src=\"./files/gephi/gephi-3.png\" width=\"550px\"/>\n",
    "    <image src=\"./files/gephi/gephi-4.png\" width=\"550px\"/>\n",
    "    <image src=\"./files/gephi/gephi-5.png\" width=\"550px\"/>\n",
    "    <image src=\"./files/gephi/gephi-6.png\" width=\"550px\" title=\"viral\"/>\n",
    "    <image src=\"./files/gephi/gephi-7.png\" width=\"550px\" title=\"geral\"/>\n",
    "    <image src=\"./files/gephi/gephi-8.png\" width=\"550px\" title=\"misinformation\"/>\n",
    "    <image src=\"./files/gephi/gephi-9.png\" width=\"550px\" title=\"misinformation\"/>\n",
    "</div>"
   ]
  },
  {
   "cell_type": "markdown",
   "id": "23a3f2e7",
   "metadata": {},
   "source": [
    "### Estatísticas\n",
    "\n",
    "<div>\n",
    "    <image src=\"./files/gephi/gephi-10.png\" width=\"550px\"/>\n",
    "    <image src=\"./files/gephi/gephi-11.png\" width=\"550px\"/>\n",
    "    <image src=\"./files/gephi/gephi-12.png\" width=\"550px\"/>\n",
    "    <image src=\"./files/gephi/gephi-13.png\" width=\"550px\"/>\n",
    "    <image src=\"./files/gephi/gephi-14.png\" width=\"550px\"/>\n",
    "    <image src=\"./files/gephi/gephi-15.png\" height=\"600px\"/>\n",
    "</div>"
   ]
  },
  {
   "cell_type": "markdown",
   "id": "e6b720a2",
   "metadata": {},
   "source": [
    "## Parte III - Pajek\n",
    "\n",
    "http://mrvar.fdv.uni-lj.si/pajek/"
   ]
  },
  {
   "cell_type": "markdown",
   "id": "2a69350a",
   "metadata": {},
   "source": [
    "### Importação\n",
    "\n",
    "<div>\n",
    "    <image src=\"./files/pajek/pajek-1.png\" width=\"550px\"/>\n",
    "    <image src=\"./files/pajek/pajek-2.png\" width=\"550px\"/>\n",
    "    <image src=\"./files/pajek/pajek-3.png\" width=\"550px\"/>\n",
    "    <image src=\"./files/pajek/pajek-4.png\" width=\"550px\"/>\n",
    "</div>\n",
    "\n",
    "<image src=\"./files/pajek/pajek-4.png\"/>"
   ]
  },
  {
   "cell_type": "markdown",
   "id": "063bd6cc",
   "metadata": {},
   "source": [
    "### Estatísticas\n",
    "\n",
    "![pajek.gif](./files/pajek/pajek.gif)\n",
    "\n",
    "<div style=\"diplay: grid; grid-template-columns: repeat(2, auto); background: lightgray\">\n",
    "    <image src=\"./files/pajek/pajek-5.png\" width=\"550px\"/>\n",
    "    <image src=\"./files/pajek/pajek-6.png\" width=\"550px\"/>\n",
    "    <image src=\"./files/pajek/pajek-7.png\" width=\"550px\"/>\n",
    "    <image src=\"./files/pajek/pajek-8.png\" width=\"550px\"/>\n",
    "</div>"
   ]
  },
  {
   "cell_type": "markdown",
   "id": "c555badb",
   "metadata": {},
   "source": [
    "## Informações da Máquina\n",
    "\n",
    "![machine.png](./files/machine.png)\n"
   ]
  }
 ],
 "metadata": {
  "kernelspec": {
   "display_name": "venv",
   "language": "python",
   "name": "python3"
  },
  "language_info": {
   "codemirror_mode": {
    "name": "ipython",
    "version": 3
   },
   "file_extension": ".py",
   "mimetype": "text/x-python",
   "name": "python",
   "nbconvert_exporter": "python",
   "pygments_lexer": "ipython3",
   "version": "3.9.6"
  }
 },
 "nbformat": 4,
 "nbformat_minor": 5
}
