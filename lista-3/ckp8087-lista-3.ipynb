{
 "cells": [
  {
   "cell_type": "markdown",
   "id": "8f845055-aa8e-4144-a384-11b7cc873a4a",
   "metadata": {},
   "source": [
    "# CKP8087 - Estrutura de Dados\n",
    "<img  src=\"https://img.shields.io/badge/UFC_CKP8087-VAUX GOMES-000000?style=for-the-badge&logo=data:image/png;base64,iVBORw0KGgoAAAANSUhEUgAAAAsAAAAOCAYAAAD5YeaVAAAABHNCSVQICAgIfAhkiAAAAAlwSFlzAAAANgAAADYBsVpjYQAAABl0RVh0U29mdHdhcmUAd3d3Lmlua3NjYXBlLm9yZ5vuPBoAAAENSURBVCiRbdFBS9QBEAXw36y7Wq6IgUSGsixhJBpiRBB08XN7ETyIFyPYui2KBXsQTUphsbbx4Cz8E+cyw8ybN/NmQsMy8xO+YRkdXGA9Ig6g3QC+r/Ad/lS8hp9TTKtBvFB+Dt2qZXNyuxEnNnCORUQ1Xj8G/lX7trAfEVeZOYu3j63xDG8wg35mdiPiFpf/gTNzocZ+xQgv8KGYp3WRmTtYxQBPiv0Wh5W/wjaG7WI8K1HThlPsYowevmO+hZe4wfOImJTIV5jgafl/WInM3MBmMY5xXP41ltx/cgaDKAF999/q1L0/Yq9ygc8RMWxBRJzgN7bwF8PS0MNpRAwf3nlUAo/qdAf4gh9TwB2yEFM5Ddb+rgAAAABJRU5ErkJggg==\" /> <img src=\"https://img.shields.io/badge/Jupyter-000000?style=for-the-badge&logo=jupyter&logoColor=white\" /> <img src=\"https://img.shields.io/badge/Python-000000?style=for-the-badge&logo=python&logoColor=white\" /> "
   ]
  },
  {
   "cell_type": "markdown",
   "id": "5a35c9a8-8c17-44c2-af2c-13b3dd0ee8be",
   "metadata": {},
   "source": [
    "### Bibliotecas principais"
   ]
  },
  {
   "cell_type": "code",
   "execution_count": 48,
   "id": "17f8dd50-b187-45ed-8f04-479619935a27",
   "metadata": {},
   "outputs": [],
   "source": [
    "import pandas as pd\n",
    "import networkx as nx\n",
    "import random as rnd"
   ]
  },
  {
   "cell_type": "markdown",
   "id": "87f4c074-87db-4613-9e74-f2bb205c3063",
   "metadata": {},
   "source": [
    "### Loading"
   ]
  },
  {
   "cell_type": "code",
   "execution_count": null,
   "id": "fbbeee7f-29ad-4b58-8e26-1cfd641416c7",
   "metadata": {},
   "outputs": [
    {
     "data": {
      "text/plain": [
       "(186316, 7)"
      ]
     },
     "execution_count": 2,
     "metadata": {},
     "output_type": "execute_result"
    }
   ],
   "source": [
    "df = pd.read_csv('../lista-2/files/dados.csv')\n",
    "df.rename(columns={'score_sentiment': 'sentiment', 'score_misinformation': 'misinformation'}, inplace=True)\n",
    "\n",
    "# Flag de viral\n",
    "counts = df['text'].value_counts()\n",
    "df['isviral'] = df['text'].isin(counts[counts > 1].index)\n",
    "\n",
    "# Flaf de misinformation\n",
    "df['ismisinformation'] = df.misinformation >= 0.7\n",
    "\n",
    "df.shape"
   ]
  },
  {
   "cell_type": "code",
   "execution_count": 3,
   "id": "3e5e4a1c",
   "metadata": {},
   "outputs": [
    {
     "data": {
      "text/html": [
       "<div>\n",
       "<style scoped>\n",
       "    .dataframe tbody tr th:only-of-type {\n",
       "        vertical-align: middle;\n",
       "    }\n",
       "\n",
       "    .dataframe tbody tr th {\n",
       "        vertical-align: top;\n",
       "    }\n",
       "\n",
       "    .dataframe thead th {\n",
       "        text-align: right;\n",
       "    }\n",
       "</style>\n",
       "<table border=\"1\" class=\"dataframe\">\n",
       "  <thead>\n",
       "    <tr style=\"text-align: right;\">\n",
       "      <th></th>\n",
       "      <th>member</th>\n",
       "      <th>group</th>\n",
       "      <th>text</th>\n",
       "      <th>sentiment</th>\n",
       "      <th>misinformation</th>\n",
       "      <th>isviral</th>\n",
       "      <th>ismisinformation</th>\n",
       "    </tr>\n",
       "  </thead>\n",
       "  <tbody>\n",
       "    <tr>\n",
       "      <th>0</th>\n",
       "      <td>3a8e41b9e1da548ef0acd0a57b398da4</td>\n",
       "      <td>e110071613239754d38878f7e046e95b</td>\n",
       "      <td>Jovem vai a sessão parlamentar na câmara dos v...</td>\n",
       "      <td>0.6371</td>\n",
       "      <td>0.001867</td>\n",
       "      <td>True</td>\n",
       "      <td>False</td>\n",
       "    </tr>\n",
       "    <tr>\n",
       "      <th>1</th>\n",
       "      <td>3a8e41b9e1da548ef0acd0a57b398da4</td>\n",
       "      <td>7ee4235534ec624ebd61373b87ad8c20</td>\n",
       "      <td>Jovem vai a sessão parlamentar na câmara dos v...</td>\n",
       "      <td>0.6371</td>\n",
       "      <td>0.001867</td>\n",
       "      <td>True</td>\n",
       "      <td>False</td>\n",
       "    </tr>\n",
       "    <tr>\n",
       "      <th>2</th>\n",
       "      <td>3a8e41b9e1da548ef0acd0a57b398da4</td>\n",
       "      <td>ee85f63c945ffa50ba8bb57acf2c1bf9</td>\n",
       "      <td>Jovem vai a sessão parlamentar na câmara dos v...</td>\n",
       "      <td>0.6371</td>\n",
       "      <td>0.001867</td>\n",
       "      <td>True</td>\n",
       "      <td>False</td>\n",
       "    </tr>\n",
       "    <tr>\n",
       "      <th>3</th>\n",
       "      <td>ef496106907ece8b169c6219e5470b2c</td>\n",
       "      <td>4450dfcd32cb7582037943ca7c682e2d</td>\n",
       "      <td>*Dilma merece pedido de desculpas por impeachm...</td>\n",
       "      <td>0.4019</td>\n",
       "      <td>NaN</td>\n",
       "      <td>True</td>\n",
       "      <td>False</td>\n",
       "    </tr>\n",
       "    <tr>\n",
       "      <th>4</th>\n",
       "      <td>4ea1b3ee637da811b7d2d0df32db21f9</td>\n",
       "      <td>3b75f897e41fca595457f2ad9e101260</td>\n",
       "      <td>*Dilma merece pedido de desculpas por impeachm...</td>\n",
       "      <td>0.4019</td>\n",
       "      <td>NaN</td>\n",
       "      <td>True</td>\n",
       "      <td>False</td>\n",
       "    </tr>\n",
       "  </tbody>\n",
       "</table>\n",
       "</div>"
      ],
      "text/plain": [
       "                             member                             group  \\\n",
       "0  3a8e41b9e1da548ef0acd0a57b398da4  e110071613239754d38878f7e046e95b   \n",
       "1  3a8e41b9e1da548ef0acd0a57b398da4  7ee4235534ec624ebd61373b87ad8c20   \n",
       "2  3a8e41b9e1da548ef0acd0a57b398da4  ee85f63c945ffa50ba8bb57acf2c1bf9   \n",
       "3  ef496106907ece8b169c6219e5470b2c  4450dfcd32cb7582037943ca7c682e2d   \n",
       "4  4ea1b3ee637da811b7d2d0df32db21f9  3b75f897e41fca595457f2ad9e101260   \n",
       "\n",
       "                                                text  sentiment  \\\n",
       "0  Jovem vai a sessão parlamentar na câmara dos v...     0.6371   \n",
       "1  Jovem vai a sessão parlamentar na câmara dos v...     0.6371   \n",
       "2  Jovem vai a sessão parlamentar na câmara dos v...     0.6371   \n",
       "3  *Dilma merece pedido de desculpas por impeachm...     0.4019   \n",
       "4  *Dilma merece pedido de desculpas por impeachm...     0.4019   \n",
       "\n",
       "   misinformation  isviral  ismisinformation  \n",
       "0        0.001867     True             False  \n",
       "1        0.001867     True             False  \n",
       "2        0.001867     True             False  \n",
       "3             NaN     True             False  \n",
       "4             NaN     True             False  "
      ]
     },
     "execution_count": 3,
     "metadata": {},
     "output_type": "execute_result"
    }
   ],
   "source": [
    "df.head(5)"
   ]
  },
  {
   "cell_type": "markdown",
   "id": "c63718cd-7dc6-457a-902d-e080882a6fe0",
   "metadata": {},
   "source": [
    "### Construindo a estrutura de gráfico"
   ]
  },
  {
   "cell_type": "code",
   "execution_count": 4,
   "id": "21d81edf-c1fb-4301-9d68-94493c4f95d0",
   "metadata": {},
   "outputs": [],
   "source": [
    "geral  = df[['member', 'group', 'isviral', 'ismisinformation']]\n",
    "viral = geral[geral.isviral]\n",
    "misin = geral[geral.ismisinformation]"
   ]
  },
  {
   "cell_type": "code",
   "execution_count": 32,
   "id": "443fa40a-8ccc-4e7c-8fde-a15a560c0758",
   "metadata": {
    "scrolled": true
   },
   "outputs": [],
   "source": [
    "#\n",
    "def build(df):\n",
    "    graph = {}\n",
    "    \n",
    "    for group in df.group.unique(): \n",
    "        members = df[df.group == group].member.value_counts()\n",
    "        \n",
    "        for s in members.keys():\n",
    "            for r in members.keys():\n",
    "                # Avoiding duplicates\n",
    "                if s in graph and r in graph and (s in graph[r] or r in graph[s]):\n",
    "                    continue\n",
    "    \n",
    "                graph[s] = graph.get(s, [])\n",
    "                graph[s].append(r)\n",
    "\n",
    "    return graph, df.member.unique()"
   ]
  },
  {
   "cell_type": "code",
   "execution_count": 33,
   "id": "39418360-1af4-41b7-8930-288a4e398bc5",
   "metadata": {},
   "outputs": [
    {
     "name": "stdout",
     "output_type": "stream",
     "text": [
      "CPU times: user 3.84 s, sys: 24.8 ms, total: 3.87 s\n",
      "Wall time: 3.87 s\n",
      "CPU times: user 1.8 s, sys: 12.1 ms, total: 1.81 s\n",
      "Wall time: 1.83 s\n",
      "CPU times: user 185 ms, sys: 1.05 ms, total: 186 ms\n",
      "Wall time: 186 ms\n"
     ]
    }
   ],
   "source": [
    "%time graph_geral, memebers_geral = build(geral)\n",
    "%time graph_viral, memebers_viral = build(viral)\n",
    "%time graph_misin, memebers_misin = build(misin)"
   ]
  },
  {
   "cell_type": "markdown",
   "id": "350e800c-6318-42b9-8d8b-641a248f1074",
   "metadata": {},
   "source": [
    "## Parte I - NetworkX\n",
    "\n",
    "https://networkx.org/\n",
    "\n",
    "### Funções de montagem"
   ]
  },
  {
   "cell_type": "code",
   "execution_count": 7,
   "id": "53356a2f-f586-4f1d-9a9f-9e2c7b0d6a6f",
   "metadata": {},
   "outputs": [],
   "source": [
    "# Função de montagem do grafo\n",
    "def networkX(graph):\n",
    "    G = nx.Graph()\n",
    "    \n",
    "    for s in graph:\n",
    "        for r in graph[s]:\n",
    "            G.add_edge(s, r, color='#0077b6')\n",
    "\n",
    "    return G"
   ]
  },
  {
   "cell_type": "code",
   "execution_count": 93,
   "id": "c35f4509",
   "metadata": {},
   "outputs": [
    {
     "name": "stdout",
     "output_type": "stream",
     "text": [
      "CPU times: user 407 ms, sys: 6.38 ms, total: 414 ms\n",
      "Wall time: 414 ms\n",
      "CPU times: user 125 ms, sys: 1.33 ms, total: 126 ms\n",
      "Wall time: 126 ms\n",
      "CPU times: user 32.3 ms, sys: 328 µs, total: 32.6 ms\n",
      "Wall time: 32.6 ms\n"
     ]
    }
   ],
   "source": [
    "# Montando os grafos\n",
    "%time gg = networkX(graph_geral)\n",
    "%time gv = networkX(graph_viral)\n",
    "%time gm = networkX(graph_misin)"
   ]
  },
  {
   "cell_type": "markdown",
   "id": "6f61ec96",
   "metadata": {},
   "source": [
    "### Metodologia\n",
    "\n",
    "- Encontrar o maior component conectado\n",
    "- Remover 10% de suas arestas aleatóriamente\n",
    "- Usar os algoritmos e ordenar os _scores_\n",
    "- Verificar a usabilidade das métricas\n",
    "\n",
    "#### Giant component"
   ]
  },
  {
   "cell_type": "code",
   "execution_count": 94,
   "id": "5e85fb5e",
   "metadata": {},
   "outputs": [
    {
     "name": "stdout",
     "output_type": "stream",
     "text": [
      "CPU times: user 38.1 ms, sys: 2.27 ms, total: 40.3 ms\n",
      "Wall time: 40.1 ms\n",
      "CPU times: user 10.1 ms, sys: 55 µs, total: 10.2 ms\n",
      "Wall time: 10.2 ms\n",
      "CPU times: user 3.14 ms, sys: 224 µs, total: 3.37 ms\n",
      "Wall time: 3.43 ms\n",
      "\n",
      "Giant Component Created!\n"
     ]
    }
   ],
   "source": [
    "# Giant component\n",
    "def giant_component(G):\n",
    "    return G.subgraph(max(nx.connected_components(G), key=len))\n",
    "\n",
    "# Usando apenas o maior component conectado\n",
    "%time gg = giant_component(gg)\n",
    "%time gv = giant_component(gv)\n",
    "%time gm = giant_component(gm)\n",
    "\n",
    "print('\\nGiant Component Created!')"
   ]
  },
  {
   "cell_type": "markdown",
   "id": "d1bdee06",
   "metadata": {},
   "source": [
    "#### Remoção de arestas"
   ]
  },
  {
   "cell_type": "code",
   "execution_count": 95,
   "id": "3b4ffd96",
   "metadata": {},
   "outputs": [
    {
     "name": "stdout",
     "output_type": "stream",
     "text": [
      "\n",
      "From 479955 to 434334\n",
      "--\n",
      "CPU times: user 4.95 s, sys: 27.8 ms, total: 4.98 s\n",
      "Wall time: 5.01 s\n",
      "\n",
      "From 142368 to 128787\n",
      "--\n",
      "CPU times: user 1.4 s, sys: 7.07 ms, total: 1.4 s\n",
      "Wall time: 1.42 s\n",
      "\n",
      "From  34168 to  30904\n",
      "--\n",
      "CPU times: user 339 ms, sys: 1.91 ms, total: 341 ms\n",
      "Wall time: 342 ms\n",
      "\n",
      "Edges Removed\n"
     ]
    }
   ],
   "source": [
    "def remove_edges(G, perc=0.1):\n",
    "  n_edges = G.number_of_edges()\n",
    "  size = int(n_edges * perc)\n",
    "  ebunch = rnd.choices(list(G.edges), k=size)\n",
    "  \n",
    "  H = G.copy()\n",
    "  H.remove_edges_from(ebunch)\n",
    "  \n",
    "  print(f'\\nFrom {n_edges:6} to {H.number_of_edges():6}\\n--')\n",
    "  return H, nx.Graph(ebunch)\n",
    "\n",
    "#\n",
    "rnd.seed(42)\n",
    "\n",
    "#\n",
    "%time gg, gg_rme = remove_edges(gg)\n",
    "%time gv, gv_rme = remove_edges(gv)\n",
    "%time gm, gm_rme = remove_edges(gm)\n",
    "\n",
    "print('\\nEdges Removed')"
   ]
  },
  {
   "cell_type": "markdown",
   "id": "c08e86cf",
   "metadata": {},
   "source": [
    "#### Métricas de predição de ligação\n",
    "\n",
    "| Métrica | Suporte | |\n",
    "| -- | -- | -- |\n",
    "| Preferential attachment | `nativo` | `preferential_attachment()` |\n",
    "| Common neighbors | `nativo` | `common_neighbors()` |\n",
    "| Jaccard | `nativo` | `jaccard_coefficient()`|\n",
    "| Adamic-Adar | `nativo` | `adamic_adar_index()` |\n",
    "| Graph distance | `desenvolvido` |\n",
    "| Kat | `nativo` | `katz_centrality()` |"
   ]
  },
  {
   "cell_type": "code",
   "execution_count": null,
   "id": "11ae5bf3",
   "metadata": {},
   "outputs": [],
   "source": []
  }
 ],
 "metadata": {
  "kernelspec": {
   "display_name": "venv",
   "language": "python",
   "name": "python3"
  },
  "language_info": {
   "codemirror_mode": {
    "name": "ipython",
    "version": 3
   },
   "file_extension": ".py",
   "mimetype": "text/x-python",
   "name": "python",
   "nbconvert_exporter": "python",
   "pygments_lexer": "ipython3",
   "version": "3.9.6"
  }
 },
 "nbformat": 4,
 "nbformat_minor": 5
}
